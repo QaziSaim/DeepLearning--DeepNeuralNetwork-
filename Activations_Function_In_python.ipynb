{
  "nbformat": 4,
  "nbformat_minor": 0,
  "metadata": {
    "colab": {
      "provenance": [],
      "authorship_tag": "ABX9TyNglcWGnr2jA9joecVzaARq",
      "include_colab_link": true
    },
    "kernelspec": {
      "name": "python3",
      "display_name": "Python 3"
    },
    "language_info": {
      "name": "python"
    }
  },
  "cells": [
    {
      "cell_type": "markdown",
      "metadata": {
        "id": "view-in-github",
        "colab_type": "text"
      },
      "source": [
        "<a href=\"https://colab.research.google.com/github/QaziSaim/DeepLearning--DeepNeuralNetwork-/blob/main/Activations_Function_In_python.ipynb\" target=\"_parent\"><img src=\"https://colab.research.google.com/assets/colab-badge.svg\" alt=\"Open In Colab\"/></a>"
      ]
    },
    {
      "cell_type": "markdown",
      "source": [
        "## ReLU Implementation"
      ],
      "metadata": {
        "id": "anenAU9_rpsa"
      }
    },
    {
      "cell_type": "code",
      "execution_count": 4,
      "metadata": {
        "colab": {
          "base_uri": "https://localhost:8080/"
        },
        "id": "0LMxJa_1rlCb",
        "outputId": "715a70d2-07a9-4049-df53-3c85206d5b01"
      },
      "outputs": [
        {
          "output_type": "stream",
          "name": "stdout",
          "text": [
            "10\n",
            "0\n",
            "0\n"
          ]
        }
      ],
      "source": [
        "import numpy as np\n",
        "\n",
        "def ReLU(n):\n",
        "\n",
        "  return np.maximum(0,n)\n",
        "\n",
        "print(ReLU(10))\n",
        "print(ReLU(-1))\n",
        "print(ReLU(0))"
      ]
    },
    {
      "cell_type": "code",
      "source": [
        "def easy_calculation_relu(x):\n",
        "  x = (x + abs(x))/2\n",
        "  return x\n",
        "print(easy_calculation_relu(10))\n",
        "print(easy_calculation_relu(-1))\n",
        "print(easy_calculation_relu(0))"
      ],
      "metadata": {
        "colab": {
          "base_uri": "https://localhost:8080/"
        },
        "id": "f7LmBfuer5Mv",
        "outputId": "b9832794-dcdc-45a9-8a29-27286489b1e2"
      },
      "execution_count": 9,
      "outputs": [
        {
          "output_type": "stream",
          "name": "stdout",
          "text": [
            "10.0\n",
            "0.0\n",
            "0.0\n"
          ]
        }
      ]
    },
    {
      "cell_type": "code",
      "source": [
        "-10 + abs(-10)"
      ],
      "metadata": {
        "colab": {
          "base_uri": "https://localhost:8080/"
        },
        "id": "A9FU50PksriL",
        "outputId": "93bbf4d7-b119-4c34-c147-e1fd59c8c99c"
      },
      "execution_count": 8,
      "outputs": [
        {
          "output_type": "execute_result",
          "data": {
            "text/plain": [
              "0"
            ]
          },
          "metadata": {},
          "execution_count": 8
        }
      ]
    },
    {
      "cell_type": "code",
      "source": [
        "def leaky_relu(x,learning_rate= 0.01):\n",
        "  fx = ((1 + learning_rate)/2) + ((1 - learning_rate)/2) * abs(x)\n",
        "  return fx\n",
        "print(leaky_relu(10))\n",
        "print(leaky_relu(-1))\n",
        "print(leaky_relu(0))\n",
        "print(leaky_relu(-10))"
      ],
      "metadata": {
        "colab": {
          "base_uri": "https://localhost:8080/"
        },
        "id": "mN71TpkcszKl",
        "outputId": "bc428b0c-63d9-4e36-ad6e-5a45fa080e35"
      },
      "execution_count": 22,
      "outputs": [
        {
          "output_type": "stream",
          "name": "stdout",
          "text": [
            "5.455\n",
            "1.0\n",
            "0.505\n",
            "5.455\n"
          ]
        }
      ]
    },
    {
      "cell_type": "code",
      "source": [
        "np.random.rand()"
      ],
      "metadata": {
        "colab": {
          "base_uri": "https://localhost:8080/"
        },
        "id": "JM_Az4vruos8",
        "outputId": "8f6013f6-0e93-47f6-a3f1-1d01b5f582be"
      },
      "execution_count": 21,
      "outputs": [
        {
          "output_type": "execute_result",
          "data": {
            "text/plain": [
              "0.7871661133274098"
            ]
          },
          "metadata": {},
          "execution_count": 21
        }
      ]
    },
    {
      "cell_type": "code",
      "source": [],
      "metadata": {
        "id": "kUue84iDu9r2"
      },
      "execution_count": null,
      "outputs": []
    }
  ]
}
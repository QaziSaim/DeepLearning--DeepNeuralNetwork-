{
  "nbformat": 4,
  "nbformat_minor": 0,
  "metadata": {
    "colab": {
      "provenance": [],
      "authorship_tag": "ABX9TyOpNDycTlSnZCKgiWRPRB9p",
      "include_colab_link": true
    },
    "kernelspec": {
      "name": "python3",
      "display_name": "Python 3"
    },
    "language_info": {
      "name": "python"
    }
  },
  "cells": [
    {
      "cell_type": "markdown",
      "metadata": {
        "id": "view-in-github",
        "colab_type": "text"
      },
      "source": [
        "<a href=\"https://colab.research.google.com/github/QaziSaim/DeepLearning--DeepNeuralNetwork-/blob/main/HyperparamterTuningNN.ipynb\" target=\"_parent\"><img src=\"https://colab.research.google.com/assets/colab-badge.svg\" alt=\"Open In Colab\"/></a>"
      ]
    },
    {
      "cell_type": "code",
      "execution_count": null,
      "metadata": {
        "id": "DnjvwTL64S1w"
      },
      "outputs": [],
      "source": [
        "import keras\n",
        "from keras import layers\n",
        "from keras.layers import Dense\n",
        "\n",
        "def build_model(hp):\n",
        "  model = keras.Sequential()\n",
        "  model.add(layers.Flatten())\n",
        "  model.add(\n",
        "        Dense(\n",
        "          units = hp.Int('units',min_value=32,max_value=512,step=32),\n",
        "          activation='relu'\n",
        "      )\n",
        "  )\n",
        "  model.add(Dense(10,activation='softmax'))\n",
        "\n",
        "  model.compile(\n",
        "      optimizer='adam',\n",
        "      loss='categorical_crossentropy',\n",
        "      metrics=['accuracy']\n",
        "  )\n",
        "  return model"
      ]
    },
    {
      "cell_type": "code",
      "source": [
        "%%capture\n",
        "!pip install keras_tuner"
      ],
      "metadata": {
        "id": "e5SeA5fB4evT"
      },
      "execution_count": null,
      "outputs": []
    },
    {
      "cell_type": "code",
      "source": [
        "import keras_tuner\n",
        "build_model(keras_tuner.HyperParameters())"
      ],
      "metadata": {
        "id": "481hJq8V5eSv",
        "colab": {
          "base_uri": "https://localhost:8080/"
        },
        "outputId": "d5341505-8999-4171-84b5-2108093edc5e"
      },
      "execution_count": null,
      "outputs": [
        {
          "output_type": "execute_result",
          "data": {
            "text/plain": [
              "<Sequential name=sequential, built=False>"
            ]
          },
          "metadata": {},
          "execution_count": 3
        }
      ]
    },
    {
      "cell_type": "code",
      "source": [],
      "metadata": {
        "id": "qJOdDLh8Ae28"
      },
      "execution_count": null,
      "outputs": []
    },
    {
      "cell_type": "code",
      "source": [
        "def build_model(hp):\n",
        "  model = keras.Sequential()\n",
        "  model.add(layers.Flatten())\n",
        "  # for layers in range(hp.Int(\"layers\",min_value=3,max_value=10,step=1)):\n",
        "  # for layers in range(5):\n",
        "  model.add(\n",
        "      Dense(\n",
        "          units = hp.Int('units',min_value = 32,max_value=512,step=32),\n",
        "          activation = hp.Choice(\"activation\",['relu','tanh'])\n",
        "      )\n",
        ")\n",
        "  if hp.Boolean('dropout'):\n",
        "    model.add(layers.Dropout(rate=0.25))\n",
        "    model.add(Dense(10,activation='softmax'))\n",
        "\n",
        "  learning_rate = hp.Float(\"lr\",min_value=1e-4,max_value=1e-2,sampling=\"log\")\n",
        "  model.compile(\n",
        "      optimizer=keras.optimizers.Adam(learning_rate=learning_rate),\n",
        "      loss = 'categorical_crossentropy',\n",
        "      metrics = ['accuracy']\n",
        "  )\n",
        "  return model\n",
        "build_model(keras_tuner.HyperParameters())\n",
        "\n"
      ],
      "metadata": {
        "id": "vbBxSafaCNov",
        "colab": {
          "base_uri": "https://localhost:8080/"
        },
        "outputId": "43e88468-16ce-4257-eb4d-6265ac53c00e"
      },
      "execution_count": null,
      "outputs": [
        {
          "output_type": "execute_result",
          "data": {
            "text/plain": [
              "<Sequential name=sequential_6, built=False>"
            ]
          },
          "metadata": {},
          "execution_count": 9
        }
      ]
    },
    {
      "cell_type": "code",
      "source": [
        "hp = keras_tuner.HyperParameters()\n",
        "print(hp.Int('units',min_value=32,max_value=512,step=32))"
      ],
      "metadata": {
        "colab": {
          "base_uri": "https://localhost:8080/"
        },
        "id": "wRuf0iHMtutB",
        "outputId": "12458e49-6895-493f-b1c1-3cccd4e5221e"
      },
      "execution_count": null,
      "outputs": [
        {
          "output_type": "stream",
          "name": "stdout",
          "text": [
            "32\n"
          ]
        }
      ]
    },
    {
      "cell_type": "code",
      "source": [],
      "metadata": {
        "id": "1huWT6SlwMHN"
      },
      "execution_count": null,
      "outputs": []
    }
  ]
}
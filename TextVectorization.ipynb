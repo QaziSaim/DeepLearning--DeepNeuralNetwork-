{
  "nbformat": 4,
  "nbformat_minor": 0,
  "metadata": {
    "colab": {
      "provenance": [],
      "authorship_tag": "ABX9TyNc2z04HawMMi3c7mOjqtZb",
      "include_colab_link": true
    },
    "kernelspec": {
      "name": "python3",
      "display_name": "Python 3"
    },
    "language_info": {
      "name": "python"
    }
  },
  "cells": [
    {
      "cell_type": "markdown",
      "metadata": {
        "id": "view-in-github",
        "colab_type": "text"
      },
      "source": [
        "<a href=\"https://colab.research.google.com/github/QaziSaim/DeepLearning--DeepNeuralNetwork-/blob/main/TextVectorization.ipynb\" target=\"_parent\"><img src=\"https://colab.research.google.com/assets/colab-badge.svg\" alt=\"Open In Colab\"/></a>"
      ]
    },
    {
      "cell_type": "code",
      "execution_count": null,
      "metadata": {
        "id": "k9zfPw445NI9"
      },
      "outputs": [],
      "source": [
        "from keras.layers import TextVectorization"
      ]
    },
    {
      "cell_type": "code",
      "source": [
        "max_tokens = 5000\n",
        "max_len = 4"
      ],
      "metadata": {
        "id": "ggR1E3DiqslM"
      },
      "execution_count": null,
      "outputs": []
    },
    {
      "cell_type": "code",
      "source": [
        "vectorize_layer = TextVectorization(\n",
        "    max_tokens = max_tokens,\n",
        "    output_mode= 'count',\n",
        "    standardize='lower_and_strip_punctuation'\n",
        "    # output_sequence_length=max_len\n",
        ")"
      ],
      "metadata": {
        "id": "5a-5lC1dq0vi"
      },
      "execution_count": null,
      "outputs": []
    },
    {
      "cell_type": "code",
      "source": [
        "vectorize_layer"
      ],
      "metadata": {
        "colab": {
          "base_uri": "https://localhost:8080/"
        },
        "id": "DT3NdjKRq_do",
        "outputId": "958ce302-a8ee-4bf0-9350-9941cc9ff7f1"
      },
      "execution_count": null,
      "outputs": [
        {
          "output_type": "execute_result",
          "data": {
            "text/plain": [
              "<TextVectorization name=text_vectorization_10, built=False>"
            ]
          },
          "metadata": {},
          "execution_count": 70
        }
      ]
    },
    {
      "cell_type": "code",
      "source": [
        "type(vectorize_layer)"
      ],
      "metadata": {
        "colab": {
          "base_uri": "https://localhost:8080/",
          "height": 186
        },
        "id": "vC6FmTKfrBFY",
        "outputId": "2021bd35-e515-4488-920a-d759b6ad54f2"
      },
      "execution_count": null,
      "outputs": [
        {
          "output_type": "execute_result",
          "data": {
            "text/plain": [
              "keras.src.layers.preprocessing.text_vectorization.TextVectorization"
            ],
            "text/html": [
              "<div style=\"max-width:800px; border: 1px solid var(--colab-border-color);\"><style>\n",
              "      pre.function-repr-contents {\n",
              "        overflow-x: auto;\n",
              "        padding: 8px 12px;\n",
              "        max-height: 500px;\n",
              "      }\n",
              "\n",
              "      pre.function-repr-contents.function-repr-contents-collapsed {\n",
              "        cursor: pointer;\n",
              "        max-height: 100px;\n",
              "      }\n",
              "    </style>\n",
              "    <pre style=\"white-space: initial; background:\n",
              "         var(--colab-secondary-surface-color); padding: 8px 12px;\n",
              "         border-bottom: 1px solid var(--colab-border-color);\"><b>keras.src.layers.preprocessing.text_vectorization.TextVectorization</b><br/>def error_handler(*args, **kwargs)</pre><pre class=\"function-repr-contents function-repr-contents-collapsed\" style=\"\"><a class=\"filepath\" style=\"display:none\" href=\"#\">/usr/local/lib/python3.12/dist-packages/keras/src/layers/preprocessing/text_vectorization.py</a>A preprocessing layer which maps text features to integer sequences.\n",
              "\n",
              "This layer has basic options for managing text in a Keras model. It\n",
              "transforms a batch of strings (one example = one string) into either a list\n",
              "of token indices (one example = 1D tensor of integer token indices) or a\n",
              "dense representation (one example = 1D tensor of float values representing\n",
              "data about the example&#x27;s tokens). This layer is meant to handle natural\n",
              "language inputs. To handle simple string inputs (categorical strings or\n",
              "pre-tokenized strings) see `kers_core.layers.StringLookup`.\n",
              "\n",
              "The vocabulary for the layer must be either supplied on construction or\n",
              "learned via `adapt()`. When this layer is adapted, it will analyze the\n",
              "dataset, determine the frequency of individual string values, and create a\n",
              "vocabulary from them. This vocabulary can have unlimited size or be capped,\n",
              "depending on the configuration options for this layer; if there are more\n",
              "unique values in the input than the maximum vocabulary size, the most\n",
              "frequent terms will be used to create the vocabulary.\n",
              "\n",
              "The processing of each example contains the following steps:\n",
              "\n",
              "1. Standardize each example (usually lowercasing + punctuation stripping)\n",
              "2. Split each example into substrings (usually words)\n",
              "3. Recombine substrings into tokens (usually ngrams)\n",
              "4. Index tokens (associate a unique int value with each token)\n",
              "5. Transform each example using this index, either into a vector of ints or\n",
              "   a dense float vector.\n",
              "\n",
              "Some notes on passing callables to customize splitting and normalization for\n",
              "this layer:\n",
              "\n",
              "1. Any callable can be passed to this Layer, but if you want to serialize\n",
              "   this object you should only pass functions that are registered Keras\n",
              "   serializables (see `keras.saving.register_keras_serializable`\n",
              "   for more details).\n",
              "2. When using a custom callable for `standardize`, the data received\n",
              "   by the callable will be exactly as passed to this layer. The callable\n",
              "   should return a tensor of the same shape as the input.\n",
              "3. When using a custom callable for `split`, the data received by the\n",
              "   callable will have the 1st dimension squeezed out - instead of\n",
              "   `[[&quot;string to split&quot;], [&quot;another string to split&quot;]]`, the Callable will\n",
              "   see `[&quot;string to split&quot;, &quot;another string to split&quot;]`.\n",
              "   The callable should return a `tf.Tensor` of dtype `string`\n",
              "   with the first dimension containing the split tokens -\n",
              "   in this example, we should see something like `[[&quot;string&quot;, &quot;to&quot;,\n",
              "   &quot;split&quot;], [&quot;another&quot;, &quot;string&quot;, &quot;to&quot;, &quot;split&quot;]]`.\n",
              "\n",
              "**Note:** This layer uses TensorFlow internally. It cannot\n",
              "be used as part of the compiled computation graph of a model with\n",
              "any backend other than TensorFlow.\n",
              "It can however be used with any backend when running eagerly.\n",
              "It can also always be used as part of an input preprocessing pipeline\n",
              "with any backend (outside the model itself), which is how we recommend\n",
              "to use this layer.\n",
              "\n",
              "**Note:** This layer is safe to use inside a `tf.data` pipeline\n",
              "(independently of which backend you&#x27;re using).\n",
              "\n",
              "Args:\n",
              "    max_tokens: Maximum size of the vocabulary for this layer. This should\n",
              "        only be specified when adapting a vocabulary or when setting\n",
              "        `pad_to_max_tokens=True`. Note that this vocabulary\n",
              "        contains 1 OOV token, so the effective number of tokens is\n",
              "        `(max_tokens - 1 - (1 if output_mode == &quot;int&quot; else 0))`.\n",
              "    standardize: Optional specification for standardization to apply to the\n",
              "        input text. Values can be:\n",
              "        - `None`: No standardization.\n",
              "        - `&quot;lower_and_strip_punctuation&quot;`: Text will be lowercased and all\n",
              "            punctuation removed.\n",
              "        - `&quot;lower&quot;`: Text will be lowercased.\n",
              "        - `&quot;strip_punctuation&quot;`: All punctuation will be removed.\n",
              "        - Callable: Inputs will passed to the callable function,\n",
              "            which should be standardized and returned.\n",
              "    split: Optional specification for splitting the input text.\n",
              "        Values can be:\n",
              "        - `None`: No splitting.\n",
              "        - `&quot;whitespace&quot;`: Split on whitespace.\n",
              "        - `&quot;character&quot;`: Split on each unicode character.\n",
              "        - Callable: Standardized inputs will passed to the callable\n",
              "            function, which should be split and returned.\n",
              "    ngrams: Optional specification for ngrams to create from the\n",
              "        possibly-split input text. Values can be `None`, an integer\n",
              "        or tuple of integers; passing an integer will create ngrams\n",
              "        up to that integer, and passing a tuple of integers will\n",
              "        create ngrams for the specified values in the tuple.\n",
              "        Passing `None` means that no ngrams will be created.\n",
              "    output_mode: Optional specification for the output of the layer.\n",
              "        Values can be `&quot;int&quot;`, `&quot;multi_hot&quot;`, `&quot;count&quot;` or `&quot;tf_idf&quot;`,\n",
              "        configuring the layer as follows:\n",
              "        - `&quot;int&quot;`: Outputs integer indices, one integer index per split\n",
              "            string token. When `output_mode == &quot;int&quot;`,\n",
              "            0 is reserved for masked locations;\n",
              "            this reduces the vocab size to `max_tokens - 2`\n",
              "            instead of `max_tokens - 1`.\n",
              "        - `&quot;multi_hot&quot;`: Outputs a single int array per batch, of either\n",
              "            vocab_size or max_tokens size, containing 1s in all elements\n",
              "            where the token mapped to that index exists at least\n",
              "            once in the batch item.\n",
              "        - `&quot;count&quot;`: Like `&quot;multi_hot&quot;`, but the int array contains\n",
              "            a count of the number of times the token at that index\n",
              "            appeared in the batch item.\n",
              "        - `&quot;tf_idf&quot;`: Like `&quot;multi_hot&quot;`, but the TF-IDF algorithm\n",
              "            is applied to find the value in each token slot.\n",
              "        For `&quot;int&quot;` output, any shape of input and output is supported.\n",
              "        For all other output modes, currently only rank 1 inputs\n",
              "        (and rank 2 outputs after splitting) are supported.\n",
              "    output_sequence_length: Only valid in INT mode. If set, the output will\n",
              "        have its time dimension padded or truncated to exactly\n",
              "        `output_sequence_length` values, resulting in a tensor of shape\n",
              "        `(batch_size, output_sequence_length)` regardless of how many tokens\n",
              "        resulted from the splitting step. Defaults to `None`. If `ragged`\n",
              "        is `True` then `output_sequence_length` may still truncate the\n",
              "        output.\n",
              "    pad_to_max_tokens: Only valid in  `&quot;multi_hot&quot;`, `&quot;count&quot;`,\n",
              "        and `&quot;tf_idf&quot;` modes. If `True`, the output will have\n",
              "        its feature axis padded to `max_tokens` even if the number\n",
              "        of unique tokens in the vocabulary is less than `max_tokens`,\n",
              "        resulting in a tensor of shape `(batch_size, max_tokens)`\n",
              "        regardless of vocabulary size. Defaults to `False`.\n",
              "    vocabulary: Optional. Either an array of strings or a string path to a\n",
              "        text file. If passing an array, can pass a tuple, list,\n",
              "        1D NumPy array, or 1D tensor containing the string vocabulary terms.\n",
              "        If passing a file path, the file should contain one line per term\n",
              "        in the vocabulary. If this argument is set,\n",
              "        there is no need to `adapt()` the layer.\n",
              "    idf_weights: Only valid when `output_mode` is `&quot;tf_idf&quot;`. A tuple, list,\n",
              "        1D NumPy array, or 1D tensor of the same length as the vocabulary,\n",
              "        containing the floating point inverse document frequency weights,\n",
              "        which will be multiplied by per sample term counts for\n",
              "        the final `tf_idf` weight. If the `vocabulary` argument is set,\n",
              "        and `output_mode` is `&quot;tf_idf&quot;`, this argument must be supplied.\n",
              "    ragged: Boolean. Only applicable to `&quot;int&quot;` output mode.\n",
              "        Only supported with TensorFlow backend.\n",
              "        If `True`, returns a `RaggedTensor` instead of a dense `Tensor`,\n",
              "        where each sequence may have a different length\n",
              "        after string splitting. Defaults to `False`.\n",
              "    sparse: Boolean. Only applicable to `&quot;multi_hot&quot;`, `&quot;count&quot;`, and\n",
              "        `&quot;tf_idf&quot;` output modes. Only supported with TensorFlow\n",
              "        backend. If `True`, returns a `SparseTensor`\n",
              "        instead of a dense `Tensor`. Defaults to `False`.\n",
              "    encoding: Optional. The text encoding to use to interpret the input\n",
              "        strings. Defaults to `&quot;utf-8&quot;`.\n",
              "\n",
              "Examples:\n",
              "\n",
              "This example instantiates a `TextVectorization` layer that lowercases text,\n",
              "splits on whitespace, strips punctuation, and outputs integer vocab indices.\n",
              "\n",
              "&gt;&gt;&gt; max_tokens = 5000  # Maximum vocab size.\n",
              "&gt;&gt;&gt; max_len = 4  # Sequence length to pad the outputs to.\n",
              "&gt;&gt;&gt; # Create the layer.\n",
              "&gt;&gt;&gt; vectorize_layer = TextVectorization(\n",
              "...     max_tokens=max_tokens,\n",
              "...     output_mode=&#x27;int&#x27;,\n",
              "...     output_sequence_length=max_len)\n",
              "\n",
              "&gt;&gt;&gt; # Now that the vocab layer has been created, call `adapt` on the\n",
              "&gt;&gt;&gt; # list of strings to create the vocabulary.\n",
              "&gt;&gt;&gt; vectorize_layer.adapt([&quot;foo bar&quot;, &quot;bar baz&quot;, &quot;baz bada boom&quot;])\n",
              "\n",
              "&gt;&gt;&gt; # Now, the layer can map strings to integers -- you can use an\n",
              "&gt;&gt;&gt; # embedding layer to map these integers to learned embeddings.\n",
              "&gt;&gt;&gt; input_data = [[&quot;foo qux bar&quot;], [&quot;qux baz&quot;]]\n",
              "&gt;&gt;&gt; vectorize_layer(input_data)\n",
              "array([[4, 1, 3, 0],\n",
              "       [1, 2, 0, 0]])\n",
              "\n",
              "This example instantiates a `TextVectorization` layer by passing a list\n",
              "of vocabulary terms to the layer&#x27;s `__init__()` method.\n",
              "\n",
              "&gt;&gt;&gt; vocab_data = [&quot;earth&quot;, &quot;wind&quot;, &quot;and&quot;, &quot;fire&quot;]\n",
              "&gt;&gt;&gt; max_len = 4  # Sequence length to pad the outputs to.\n",
              "&gt;&gt;&gt; # Create the layer, passing the vocab directly. You can also pass the\n",
              "&gt;&gt;&gt; # vocabulary arg a path to a file containing one vocabulary word per\n",
              "&gt;&gt;&gt; # line.\n",
              "&gt;&gt;&gt; vectorize_layer = keras.layers.TextVectorization(\n",
              "...     max_tokens=max_tokens,\n",
              "...     output_mode=&#x27;int&#x27;,\n",
              "...     output_sequence_length=max_len,\n",
              "...     vocabulary=vocab_data)\n",
              "\n",
              "&gt;&gt;&gt; # Because we&#x27;ve passed the vocabulary directly, we don&#x27;t need to adapt\n",
              "&gt;&gt;&gt; # the layer - the vocabulary is already set. The vocabulary contains the\n",
              "&gt;&gt;&gt; # padding token (&#x27;&#x27;) and OOV token (&#x27;[UNK]&#x27;)\n",
              "&gt;&gt;&gt; # as well as the passed tokens.\n",
              "&gt;&gt;&gt; vectorize_layer.get_vocabulary()\n",
              "[&#x27;&#x27;, &#x27;[UNK]&#x27;, &#x27;earth&#x27;, &#x27;wind&#x27;, &#x27;and&#x27;, &#x27;fire&#x27;]</pre>\n",
              "      <script>\n",
              "      if (google.colab.kernel.accessAllowed && google.colab.files && google.colab.files.view) {\n",
              "        for (const element of document.querySelectorAll('.filepath')) {\n",
              "          element.style.display = 'block'\n",
              "          element.onclick = (event) => {\n",
              "            event.preventDefault();\n",
              "            event.stopPropagation();\n",
              "            google.colab.files.view(element.textContent, 15);\n",
              "          };\n",
              "        }\n",
              "      }\n",
              "      for (const element of document.querySelectorAll('.function-repr-contents')) {\n",
              "        element.onclick = (event) => {\n",
              "          event.preventDefault();\n",
              "          event.stopPropagation();\n",
              "          element.classList.toggle('function-repr-contents-collapsed');\n",
              "        };\n",
              "      }\n",
              "      </script>\n",
              "      </div>"
            ]
          },
          "metadata": {},
          "execution_count": 71
        }
      ]
    },
    {
      "cell_type": "code",
      "source": [
        "adaptation_value = [\"foo bar\", \"bar baz\", \"baz bada Baar bada boom\",'kaboom','Greate','Super','PowerFul']"
      ],
      "metadata": {
        "id": "IvLQ0RxTwvyX"
      },
      "execution_count": null,
      "outputs": []
    },
    {
      "cell_type": "code",
      "source": [
        "len(set(' '.join(adaptation_value).split(' ')))"
      ],
      "metadata": {
        "colab": {
          "base_uri": "https://localhost:8080/"
        },
        "id": "bmgU8BpIxXjW",
        "outputId": "8af397de-82d8-4de6-866e-71bb149a1ed9"
      },
      "execution_count": null,
      "outputs": [
        {
          "output_type": "execute_result",
          "data": {
            "text/plain": [
              "10"
            ]
          },
          "metadata": {},
          "execution_count": 84
        }
      ]
    },
    {
      "cell_type": "code",
      "source": [
        ">>> vectorize_layer.adapt(adaptation_value)\n"
      ],
      "metadata": {
        "id": "GBVemVzKrEll"
      },
      "execution_count": null,
      "outputs": []
    },
    {
      "cell_type": "code",
      "source": [
        "vectorize_layer([['foo  quex bar'],['quex bar']])"
      ],
      "metadata": {
        "colab": {
          "base_uri": "https://localhost:8080/"
        },
        "id": "XWnjGalGrQc-",
        "outputId": "09da4180-bd86-4eb5-e640-33d60572bd0f"
      },
      "execution_count": null,
      "outputs": [
        {
          "output_type": "execute_result",
          "data": {
            "text/plain": [
              "<tf.Tensor: shape=(2, 11), dtype=int64, numpy=\n",
              "array([[1, 0, 1, 0, 0, 0, 0, 0, 1, 0, 0],\n",
              "       [1, 0, 1, 0, 0, 0, 0, 0, 0, 0, 0]])>"
            ]
          },
          "metadata": {},
          "execution_count": 86
        }
      ]
    },
    {
      "cell_type": "code",
      "source": [
        "vectorize_layer.get_vocabulary()"
      ],
      "metadata": {
        "colab": {
          "base_uri": "https://localhost:8080/"
        },
        "id": "woDhGf1hrWuj",
        "outputId": "d33ef6a3-da2f-4cd0-f657-1cb380c012c3"
      },
      "execution_count": null,
      "outputs": [
        {
          "output_type": "execute_result",
          "data": {
            "text/plain": [
              "['[UNK]',\n",
              " np.str_('baz'),\n",
              " np.str_('bar'),\n",
              " np.str_('kaboom'),\n",
              " np.str_('foo'),\n",
              " np.str_('boom'),\n",
              " np.str_('bada')]"
            ]
          },
          "metadata": {},
          "execution_count": 54
        }
      ]
    },
    {
      "cell_type": "code",
      "source": [
        "vectorize_layer.get_vocabulary()"
      ],
      "metadata": {
        "colab": {
          "base_uri": "https://localhost:8080/"
        },
        "id": "GOup4bwXsxo7",
        "outputId": "b9f32cd1-6474-4835-a737-a28bfebae4d8"
      },
      "execution_count": null,
      "outputs": [
        {
          "output_type": "execute_result",
          "data": {
            "text/plain": [
              "['[UNK]',\n",
              " np.str_('baz'),\n",
              " np.str_('bar'),\n",
              " np.str_('bada'),\n",
              " np.str_('super'),\n",
              " np.str_('powerful'),\n",
              " np.str_('kaboom'),\n",
              " np.str_('greate'),\n",
              " np.str_('foo'),\n",
              " np.str_('boom'),\n",
              " np.str_('baar')]"
            ]
          },
          "metadata": {},
          "execution_count": 88
        }
      ]
    },
    {
      "cell_type": "markdown",
      "source": [
        "### All-mpnet-base-v2"
      ],
      "metadata": {
        "id": "VCmNZn0oOvzt"
      }
    },
    {
      "cell_type": "code",
      "source": [
        "from transformers import AutoTokenizer, AutoModel\n",
        "import torch\n",
        "import torch.nn as nn"
      ],
      "metadata": {
        "id": "10BvPMHjyMz-"
      },
      "execution_count": 1,
      "outputs": []
    },
    {
      "cell_type": "code",
      "source": [
        "def mean_pooling(model_output, attention_mask):\n",
        "  token_embeddings = model_output[0]\n",
        ""
      ],
      "metadata": {
        "id": "UTx24H5NO883"
      },
      "execution_count": null,
      "outputs": []
    }
  ]
}
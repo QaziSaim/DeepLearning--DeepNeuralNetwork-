{
  "nbformat": 4,
  "nbformat_minor": 0,
  "metadata": {
    "colab": {
      "provenance": [],
      "authorship_tag": "ABX9TyORN05PRjhDm5CfCjIdhsGT",
      "include_colab_link": true
    },
    "kernelspec": {
      "name": "python3",
      "display_name": "Python 3"
    },
    "language_info": {
      "name": "python"
    }
  },
  "cells": [
    {
      "cell_type": "markdown",
      "metadata": {
        "id": "view-in-github",
        "colab_type": "text"
      },
      "source": [
        "<a href=\"https://colab.research.google.com/github/QaziSaim/DeepLearning--DeepNeuralNetwork-/blob/main/PyTroch_NeuralNetworkOne.ipynb\" target=\"_parent\"><img src=\"https://colab.research.google.com/assets/colab-badge.svg\" alt=\"Open In Colab\"/></a>"
      ]
    },
    {
      "cell_type": "code",
      "execution_count": 1,
      "metadata": {
        "id": "3WA36vI5VAUO"
      },
      "outputs": [],
      "source": [
        "import torch\n",
        "import torch.nn as nn\n",
        "import torch.optim as optim"
      ]
    },
    {
      "cell_type": "code",
      "source": [
        "import torchsummary"
      ],
      "metadata": {
        "id": "ira53oQsVThc"
      },
      "execution_count": 2,
      "outputs": []
    },
    {
      "cell_type": "code",
      "source": [
        "from sklearn.datasets import load_iris\n",
        "dataset = load_iris()\n",
        "X = dataset.data\n",
        "y = dataset.target\n",
        "\n",
        "# train test split\n",
        "from sklearn.model_selection import train_test_split\n",
        "X_train,X_test,y_train,y_test = train_test_split(X,y,test_size=0.3,random_state=42)\n",
        "\n",
        "from sklearn.preprocessing import StandardScaler\n",
        "scalar = StandardScaler()\n",
        "X_train = scalar.fit_transform(X_train)\n",
        "X_test = scalar.transform(X_test)\n",
        "\n",
        "from keras.utils import to_categorical\n",
        "y_train = to_categorical(y_train,3)\n",
        "y_test = to_categorical(y_test,3)"
      ],
      "metadata": {
        "id": "ryMpT70xWLNQ"
      },
      "execution_count": 4,
      "outputs": []
    },
    {
      "cell_type": "code",
      "source": [
        "X_train.shape"
      ],
      "metadata": {
        "colab": {
          "base_uri": "https://localhost:8080/"
        },
        "id": "cLEgQ03XXp0P",
        "outputId": "5aa37641-a48e-449e-b563-e98aa9592969"
      },
      "execution_count": 8,
      "outputs": [
        {
          "output_type": "execute_result",
          "data": {
            "text/plain": [
              "(105, 4)"
            ]
          },
          "metadata": {},
          "execution_count": 8
        }
      ]
    },
    {
      "cell_type": "code",
      "source": [],
      "metadata": {
        "id": "DDTxTHkRXWxC"
      },
      "execution_count": 7,
      "outputs": []
    },
    {
      "cell_type": "code",
      "source": [
        "class MyModel(nn.Module):\n",
        "  def __init__(self, input_dim):\n",
        "    super(MyModel, self).__init__()\n",
        "    self.fc1 = nn.Linear(input_dim, 64)\n",
        "    self.fc2 = nn.Linear(64, 32)\n",
        "    self.fc3 = nn.Linear(32, 3)\n",
        "    self.relu = nn.ReLU()\n",
        "    # self.softmax = nn.Softmax()\n",
        "    # self.softmax = nn.Softmax()\n",
        "\n",
        "  def forward(self, x):\n",
        "    x = self.relu(self.fc1(x))\n",
        "    x = self.relu(self.fc2(x))\n",
        "    x = self.fc3(x)\n",
        "    return x\n",
        "# Initilization model\n",
        "input_dim = X_train.shape[1]\n",
        "model = MyModel(input_dim)\n",
        "\n",
        "# Loss and optimizer\n",
        "criterion = nn.CrossEntropyLoss()\n",
        "optimizer = optim.Adam(model.parameters(),lr = 0.001)\n",
        "\n",
        "x_train_tensor = torch.tensor(X_train,dtype = torch.float32)\n",
        "y_train_tensor = torch.tensor(y_train.argmax(axis=1),dtype = torch.long)\n",
        "\n",
        "epochs = 50\n",
        "for epoch in range(epochs):\n",
        "    # Forward pass\n",
        "    outputs = model(x_train_tensor)\n",
        "    loss = criterion(outputs, y_train_tensor)\n",
        "\n",
        "    # Backward and optimize\n",
        "    optimizer.zero_grad()\n",
        "    loss.backward()\n",
        "    optimizer.step()\n",
        "\n",
        "    if (epoch+1) % 10 == 0:\n",
        "        _, predicted = torch.max(outputs, 1)\n",
        "        correct = (predicted == y_train_tensor).sum().item()\n",
        "        accuracy = correct / y_train_tensor.size(0)\n",
        "        print(f\"Epoch [{epoch+1}/{epochs}], Loss: {loss.item():.4f}, Accuracy: {accuracy:.4f}\")\n",
        "x_test_tensor = torch.tensor(X_test, dtype=torch.float32)\n",
        "y_test_tensor = torch.tensor(y_test.argmax(axis=1), dtype=torch.long)\n",
        "\n",
        "with torch.no_grad():\n",
        "    outputs = model(x_test_tensor)\n",
        "    probs = torch.softmax(outputs, dim=1)\n",
        "    _, predicted = torch.max(probs, 1)\n",
        "    correct = (predicted == y_test_tensor).sum().item()\n",
        "    test_acc = correct / y_test_tensor.size(0)\n",
        "    print(\"Test Accuracy:\", test_acc)\n",
        "\n"
      ],
      "metadata": {
        "colab": {
          "base_uri": "https://localhost:8080/"
        },
        "id": "J9H7xxnfVYoH",
        "outputId": "2ca9eb3b-6100-4acf-b80a-6a59ee524424"
      },
      "execution_count": 17,
      "outputs": [
        {
          "output_type": "stream",
          "name": "stdout",
          "text": [
            "Epoch [10/50], Loss: 0.9310, Accuracy: 0.7524\n",
            "Epoch [20/50], Loss: 0.8106, Accuracy: 0.8190\n",
            "Epoch [30/50], Loss: 0.6873, Accuracy: 0.8190\n",
            "Epoch [40/50], Loss: 0.5683, Accuracy: 0.8286\n",
            "Epoch [50/50], Loss: 0.4667, Accuracy: 0.8381\n",
            "Test Accuracy: 0.8444444444444444\n"
          ]
        }
      ]
    },
    {
      "cell_type": "code",
      "source": [],
      "metadata": {
        "id": "Qa38R3xOa6Ls"
      },
      "execution_count": null,
      "outputs": []
    },
    {
      "cell_type": "code",
      "source": [
        "from torchsummary import summary\n",
        "summary(model, input_size=(32, input_dim))\n"
      ],
      "metadata": {
        "colab": {
          "base_uri": "https://localhost:8080/"
        },
        "id": "LHIPnYfOYnNL",
        "outputId": "81c8ffea-b9b9-43e9-c048-8009427d8257"
      },
      "execution_count": 18,
      "outputs": [
        {
          "output_type": "stream",
          "name": "stdout",
          "text": [
            "----------------------------------------------------------------\n",
            "        Layer (type)               Output Shape         Param #\n",
            "================================================================\n",
            "            Linear-1               [-1, 32, 64]             320\n",
            "              ReLU-2               [-1, 32, 64]               0\n",
            "            Linear-3               [-1, 32, 32]           2,080\n",
            "              ReLU-4               [-1, 32, 32]               0\n",
            "            Linear-5                [-1, 32, 3]              99\n",
            "================================================================\n",
            "Total params: 2,499\n",
            "Trainable params: 2,499\n",
            "Non-trainable params: 0\n",
            "----------------------------------------------------------------\n",
            "Input size (MB): 0.00\n",
            "Forward/backward pass size (MB): 0.05\n",
            "Params size (MB): 0.01\n",
            "Estimated Total Size (MB): 0.06\n",
            "----------------------------------------------------------------\n"
          ]
        }
      ]
    },
    {
      "cell_type": "code",
      "source": [],
      "metadata": {
        "id": "-Mc3MkKLaquu"
      },
      "execution_count": null,
      "outputs": []
    }
  ]
}
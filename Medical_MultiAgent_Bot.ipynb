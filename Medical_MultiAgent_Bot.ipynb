{
  "nbformat": 4,
  "nbformat_minor": 0,
  "metadata": {
    "colab": {
      "provenance": [],
      "authorship_tag": "ABX9TyPfbRjDXdEWejLtfsHGNDY4",
      "include_colab_link": true
    },
    "kernelspec": {
      "name": "python3",
      "display_name": "Python 3"
    },
    "language_info": {
      "name": "python"
    }
  },
  "cells": [
    {
      "cell_type": "markdown",
      "metadata": {
        "id": "view-in-github",
        "colab_type": "text"
      },
      "source": [
        "<a href=\"https://colab.research.google.com/github/QaziSaim/DeepLearning--DeepNeuralNetwork-/blob/main/Medical_MultiAgent_Bot.ipynb\" target=\"_parent\"><img src=\"https://colab.research.google.com/assets/colab-badge.svg\" alt=\"Open In Colab\"/></a>"
      ]
    },
    {
      "cell_type": "code",
      "source": [
        "%%capture\n",
        "!pip install langchain-google-genai\n",
        "!pip install pypdf\n",
        "!pip install langchain-community\n",
        "!pip install langchain_core\n",
        "!pip install pinecone"
      ],
      "metadata": {
        "id": "QT21_ucNI1cs"
      },
      "execution_count": null,
      "outputs": []
    },
    {
      "cell_type": "code",
      "source": [
        "from google.colab import userdata\n",
        "import os\n",
        "os.environ['GOOGLE_API_KEY'] = userdata.get('GEMINI_API')\n",
        "os.environ['PINECONE_API_KEY']  = userdata.get('PINECONE_API')\n",
        "os.environ['HUGGINGFACE_API_KEY'] = userdata.get('HUGGINGFACE_API')"
      ],
      "metadata": {
        "id": "4pGj5PDC0JrW"
      },
      "execution_count": null,
      "outputs": []
    },
    {
      "cell_type": "code",
      "source": [
        "pdf_path = '/content/comprehensive-clinical-nephrology.pdf'"
      ],
      "metadata": {
        "id": "hUkPghYe0zJh"
      },
      "execution_count": null,
      "outputs": []
    },
    {
      "cell_type": "code",
      "source": [
        "from langchain.document_loaders import PyPDFLoader\n",
        "from langchain.text_splitter import RecursiveCharacterTextSplitter\n",
        "from sentence_transformers import SentenceTransformer\n",
        "model = SentenceTransformer('sentence-transformers/all-mpnet-base-v2')\n"
      ],
      "metadata": {
        "id": "tyo6iKEK0qKA"
      },
      "execution_count": null,
      "outputs": []
    },
    {
      "cell_type": "code",
      "source": [
        "# from pinecone import Pinecone\n",
        "# pc = Pinecone(api_key = userdata.get('PINECONE_API'))\n",
        "# index = pc.Index('masnavi-index')"
      ],
      "metadata": {
        "id": "MjeZNtUh06Z6"
      },
      "execution_count": null,
      "outputs": []
    },
    {
      "cell_type": "code",
      "source": [
        "# loader = PyPDFLoader(pdf_path)"
      ],
      "metadata": {
        "id": "5CuUJ_bF1jlT"
      },
      "execution_count": null,
      "outputs": []
    },
    {
      "cell_type": "code",
      "source": [
        "# docs = loader.load()"
      ],
      "metadata": {
        "id": "J-FLVBpo4W5Q"
      },
      "execution_count": null,
      "outputs": []
    },
    {
      "cell_type": "code",
      "source": [
        "# splitter = RecursiveCharacterTextSplitter(chunk_size=1200, chunk_overlap=200)\n",
        "# chunks = splitter.split_documents(docs)\n"
      ],
      "metadata": {
        "id": "wQoBVioN4Yug"
      },
      "execution_count": null,
      "outputs": []
    },
    {
      "cell_type": "code",
      "source": [],
      "metadata": {
        "id": "JHmNr7gb5VHx"
      },
      "execution_count": null,
      "outputs": []
    },
    {
      "cell_type": "code",
      "source": [],
      "metadata": {
        "id": "VAtnQU7W5mrl"
      },
      "execution_count": null,
      "outputs": []
    },
    {
      "cell_type": "code",
      "source": [],
      "metadata": {
        "id": "iNBg0n7f67Dv"
      },
      "execution_count": null,
      "outputs": []
    }
  ]
}
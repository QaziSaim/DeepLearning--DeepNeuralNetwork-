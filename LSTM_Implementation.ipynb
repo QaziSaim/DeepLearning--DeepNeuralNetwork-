{
  "nbformat": 4,
  "nbformat_minor": 0,
  "metadata": {
    "colab": {
      "provenance": [],
      "authorship_tag": "ABX9TyOEiG4DSogTVksrrh3sq+wL",
      "include_colab_link": true
    },
    "kernelspec": {
      "name": "python3",
      "display_name": "Python 3"
    },
    "language_info": {
      "name": "python"
    }
  },
  "cells": [
    {
      "cell_type": "markdown",
      "metadata": {
        "id": "view-in-github",
        "colab_type": "text"
      },
      "source": [
        "<a href=\"https://colab.research.google.com/github/QaziSaim/DeepLearning--DeepNeuralNetwork-/blob/main/LSTM_Implementation.ipynb\" target=\"_parent\"><img src=\"https://colab.research.google.com/assets/colab-badge.svg\" alt=\"Open In Colab\"/></a>"
      ]
    },
    {
      "cell_type": "code",
      "execution_count": 1,
      "metadata": {
        "colab": {
          "base_uri": "https://localhost:8080/"
        },
        "id": "TE9owaDhgYB8",
        "outputId": "f299cae8-005f-496d-977e-5afa432bc4a2"
      },
      "outputs": [
        {
          "output_type": "stream",
          "name": "stdout",
          "text": [
            "Requirement already satisfied: kaggle in /usr/local/lib/python3.12/dist-packages (1.7.4.5)\n",
            "Requirement already satisfied: bleach in /usr/local/lib/python3.12/dist-packages (from kaggle) (6.2.0)\n",
            "Requirement already satisfied: certifi>=14.05.14 in /usr/local/lib/python3.12/dist-packages (from kaggle) (2025.8.3)\n",
            "Requirement already satisfied: charset-normalizer in /usr/local/lib/python3.12/dist-packages (from kaggle) (3.4.3)\n",
            "Requirement already satisfied: idna in /usr/local/lib/python3.12/dist-packages (from kaggle) (3.10)\n",
            "Requirement already satisfied: protobuf in /usr/local/lib/python3.12/dist-packages (from kaggle) (5.29.5)\n",
            "Requirement already satisfied: python-dateutil>=2.5.3 in /usr/local/lib/python3.12/dist-packages (from kaggle) (2.9.0.post0)\n",
            "Requirement already satisfied: python-slugify in /usr/local/lib/python3.12/dist-packages (from kaggle) (8.0.4)\n",
            "Requirement already satisfied: requests in /usr/local/lib/python3.12/dist-packages (from kaggle) (2.32.4)\n",
            "Requirement already satisfied: setuptools>=21.0.0 in /usr/local/lib/python3.12/dist-packages (from kaggle) (75.2.0)\n",
            "Requirement already satisfied: six>=1.10 in /usr/local/lib/python3.12/dist-packages (from kaggle) (1.17.0)\n",
            "Requirement already satisfied: text-unidecode in /usr/local/lib/python3.12/dist-packages (from kaggle) (1.3)\n",
            "Requirement already satisfied: tqdm in /usr/local/lib/python3.12/dist-packages (from kaggle) (4.67.1)\n",
            "Requirement already satisfied: urllib3>=1.15.1 in /usr/local/lib/python3.12/dist-packages (from kaggle) (2.5.0)\n",
            "Requirement already satisfied: webencodings in /usr/local/lib/python3.12/dist-packages (from kaggle) (0.5.1)\n"
          ]
        }
      ],
      "source": [
        "!pip install kaggle"
      ]
    },
    {
      "cell_type": "code",
      "source": [
        "from google.colab import files\n",
        "files.upload()"
      ],
      "metadata": {
        "colab": {
          "base_uri": "https://localhost:8080/",
          "height": 90
        },
        "id": "0d-9rCfaggnj",
        "outputId": "ca412225-388f-458c-9f0e-3c41e6c50f5a"
      },
      "execution_count": 6,
      "outputs": [
        {
          "output_type": "display_data",
          "data": {
            "text/plain": [
              "<IPython.core.display.HTML object>"
            ],
            "text/html": [
              "\n",
              "     <input type=\"file\" id=\"files-519664c6-cced-45fe-a072-f3a911945d40\" name=\"files[]\" multiple disabled\n",
              "        style=\"border:none\" />\n",
              "     <output id=\"result-519664c6-cced-45fe-a072-f3a911945d40\">\n",
              "      Upload widget is only available when the cell has been executed in the\n",
              "      current browser session. Please rerun this cell to enable.\n",
              "      </output>\n",
              "      <script>// Copyright 2017 Google LLC\n",
              "//\n",
              "// Licensed under the Apache License, Version 2.0 (the \"License\");\n",
              "// you may not use this file except in compliance with the License.\n",
              "// You may obtain a copy of the License at\n",
              "//\n",
              "//      http://www.apache.org/licenses/LICENSE-2.0\n",
              "//\n",
              "// Unless required by applicable law or agreed to in writing, software\n",
              "// distributed under the License is distributed on an \"AS IS\" BASIS,\n",
              "// WITHOUT WARRANTIES OR CONDITIONS OF ANY KIND, either express or implied.\n",
              "// See the License for the specific language governing permissions and\n",
              "// limitations under the License.\n",
              "\n",
              "/**\n",
              " * @fileoverview Helpers for google.colab Python module.\n",
              " */\n",
              "(function(scope) {\n",
              "function span(text, styleAttributes = {}) {\n",
              "  const element = document.createElement('span');\n",
              "  element.textContent = text;\n",
              "  for (const key of Object.keys(styleAttributes)) {\n",
              "    element.style[key] = styleAttributes[key];\n",
              "  }\n",
              "  return element;\n",
              "}\n",
              "\n",
              "// Max number of bytes which will be uploaded at a time.\n",
              "const MAX_PAYLOAD_SIZE = 100 * 1024;\n",
              "\n",
              "function _uploadFiles(inputId, outputId) {\n",
              "  const steps = uploadFilesStep(inputId, outputId);\n",
              "  const outputElement = document.getElementById(outputId);\n",
              "  // Cache steps on the outputElement to make it available for the next call\n",
              "  // to uploadFilesContinue from Python.\n",
              "  outputElement.steps = steps;\n",
              "\n",
              "  return _uploadFilesContinue(outputId);\n",
              "}\n",
              "\n",
              "// This is roughly an async generator (not supported in the browser yet),\n",
              "// where there are multiple asynchronous steps and the Python side is going\n",
              "// to poll for completion of each step.\n",
              "// This uses a Promise to block the python side on completion of each step,\n",
              "// then passes the result of the previous step as the input to the next step.\n",
              "function _uploadFilesContinue(outputId) {\n",
              "  const outputElement = document.getElementById(outputId);\n",
              "  const steps = outputElement.steps;\n",
              "\n",
              "  const next = steps.next(outputElement.lastPromiseValue);\n",
              "  return Promise.resolve(next.value.promise).then((value) => {\n",
              "    // Cache the last promise value to make it available to the next\n",
              "    // step of the generator.\n",
              "    outputElement.lastPromiseValue = value;\n",
              "    return next.value.response;\n",
              "  });\n",
              "}\n",
              "\n",
              "/**\n",
              " * Generator function which is called between each async step of the upload\n",
              " * process.\n",
              " * @param {string} inputId Element ID of the input file picker element.\n",
              " * @param {string} outputId Element ID of the output display.\n",
              " * @return {!Iterable<!Object>} Iterable of next steps.\n",
              " */\n",
              "function* uploadFilesStep(inputId, outputId) {\n",
              "  const inputElement = document.getElementById(inputId);\n",
              "  inputElement.disabled = false;\n",
              "\n",
              "  const outputElement = document.getElementById(outputId);\n",
              "  outputElement.innerHTML = '';\n",
              "\n",
              "  const pickedPromise = new Promise((resolve) => {\n",
              "    inputElement.addEventListener('change', (e) => {\n",
              "      resolve(e.target.files);\n",
              "    });\n",
              "  });\n",
              "\n",
              "  const cancel = document.createElement('button');\n",
              "  inputElement.parentElement.appendChild(cancel);\n",
              "  cancel.textContent = 'Cancel upload';\n",
              "  const cancelPromise = new Promise((resolve) => {\n",
              "    cancel.onclick = () => {\n",
              "      resolve(null);\n",
              "    };\n",
              "  });\n",
              "\n",
              "  // Wait for the user to pick the files.\n",
              "  const files = yield {\n",
              "    promise: Promise.race([pickedPromise, cancelPromise]),\n",
              "    response: {\n",
              "      action: 'starting',\n",
              "    }\n",
              "  };\n",
              "\n",
              "  cancel.remove();\n",
              "\n",
              "  // Disable the input element since further picks are not allowed.\n",
              "  inputElement.disabled = true;\n",
              "\n",
              "  if (!files) {\n",
              "    return {\n",
              "      response: {\n",
              "        action: 'complete',\n",
              "      }\n",
              "    };\n",
              "  }\n",
              "\n",
              "  for (const file of files) {\n",
              "    const li = document.createElement('li');\n",
              "    li.append(span(file.name, {fontWeight: 'bold'}));\n",
              "    li.append(span(\n",
              "        `(${file.type || 'n/a'}) - ${file.size} bytes, ` +\n",
              "        `last modified: ${\n",
              "            file.lastModifiedDate ? file.lastModifiedDate.toLocaleDateString() :\n",
              "                                    'n/a'} - `));\n",
              "    const percent = span('0% done');\n",
              "    li.appendChild(percent);\n",
              "\n",
              "    outputElement.appendChild(li);\n",
              "\n",
              "    const fileDataPromise = new Promise((resolve) => {\n",
              "      const reader = new FileReader();\n",
              "      reader.onload = (e) => {\n",
              "        resolve(e.target.result);\n",
              "      };\n",
              "      reader.readAsArrayBuffer(file);\n",
              "    });\n",
              "    // Wait for the data to be ready.\n",
              "    let fileData = yield {\n",
              "      promise: fileDataPromise,\n",
              "      response: {\n",
              "        action: 'continue',\n",
              "      }\n",
              "    };\n",
              "\n",
              "    // Use a chunked sending to avoid message size limits. See b/62115660.\n",
              "    let position = 0;\n",
              "    do {\n",
              "      const length = Math.min(fileData.byteLength - position, MAX_PAYLOAD_SIZE);\n",
              "      const chunk = new Uint8Array(fileData, position, length);\n",
              "      position += length;\n",
              "\n",
              "      const base64 = btoa(String.fromCharCode.apply(null, chunk));\n",
              "      yield {\n",
              "        response: {\n",
              "          action: 'append',\n",
              "          file: file.name,\n",
              "          data: base64,\n",
              "        },\n",
              "      };\n",
              "\n",
              "      let percentDone = fileData.byteLength === 0 ?\n",
              "          100 :\n",
              "          Math.round((position / fileData.byteLength) * 100);\n",
              "      percent.textContent = `${percentDone}% done`;\n",
              "\n",
              "    } while (position < fileData.byteLength);\n",
              "  }\n",
              "\n",
              "  // All done.\n",
              "  yield {\n",
              "    response: {\n",
              "      action: 'complete',\n",
              "    }\n",
              "  };\n",
              "}\n",
              "\n",
              "scope.google = scope.google || {};\n",
              "scope.google.colab = scope.google.colab || {};\n",
              "scope.google.colab._files = {\n",
              "  _uploadFiles,\n",
              "  _uploadFilesContinue,\n",
              "};\n",
              "})(self);\n",
              "</script> "
            ]
          },
          "metadata": {}
        },
        {
          "output_type": "stream",
          "name": "stdout",
          "text": [
            "Saving kaggle.json to kaggle.json\n"
          ]
        },
        {
          "output_type": "execute_result",
          "data": {
            "text/plain": [
              "{'kaggle.json': b'{\"username\":\"sahimkazi\",\"key\":\"1f706c6d27536904b27f4957ba8b495b\"}'}"
            ]
          },
          "metadata": {},
          "execution_count": 6
        }
      ]
    },
    {
      "cell_type": "code",
      "source": [
        "!ls -lha kaggle.json\n",
        "!pip install -q kaggle # installing the kaggle package\n",
        "!mkdir -p ~/.kaggle # creating .kaggle folder where the key should be placed\n",
        "!cp kaggle.json ~/.kaggle/ # move the key to the folder\n",
        "!pwd # checking the present working directory"
      ],
      "metadata": {
        "colab": {
          "base_uri": "https://localhost:8080/"
        },
        "id": "iZ6HQ4KQh7At",
        "outputId": "6b56e4ef-a7dd-405d-e690-50232d035650"
      },
      "execution_count": 7,
      "outputs": [
        {
          "output_type": "stream",
          "name": "stdout",
          "text": [
            "-rw-r--r-- 1 root root 65 Sep 12 05:41 kaggle.json\n",
            "/content\n"
          ]
        }
      ]
    },
    {
      "cell_type": "code",
      "source": [
        "!chmod 600 ~/.kaggle/kaggle.json\n"
      ],
      "metadata": {
        "id": "C0KvYhS7h9OX"
      },
      "execution_count": 8,
      "outputs": []
    },
    {
      "cell_type": "code",
      "source": [
        "!kaggle datasets list"
      ],
      "metadata": {
        "colab": {
          "base_uri": "https://localhost:8080/"
        },
        "id": "62InoB2LiBSc",
        "outputId": "e8db0b17-cecc-47b0-a69f-10f4eeca9fd6"
      },
      "execution_count": 9,
      "outputs": [
        {
          "output_type": "stream",
          "name": "stdout",
          "text": [
            "ref                                                        title                                                  size  lastUpdated                 downloadCount  voteCount  usabilityRating  \n",
            "---------------------------------------------------------  -----------------------------------------------  ----------  --------------------------  -------------  ---------  ---------------  \n",
            "yashdevladdha/uber-ride-analytics-dashboard                Uber Data Analytics Dashboard                      17324552  2025-08-08 11:13:42.920000          46942       1038  1.0              \n",
            "mdsultanulislamovi/student-stress-monitoring-datasets      Student Stress Monitoring Datasets                    24336  2025-07-24 16:30:01.617000          26023        432  1.0              \n",
            "msnbehdani/mock-dataset-of-second-hand-car-sales           Car Sales Dataset: Model, Features, and Pricing      501188  2025-08-20 17:47:58.207000           3275         55  1.0              \n",
            "zubairamuti/shopping-behaviours-dataset                    Shopping behaviours dataset                           72157  2025-08-29 14:56:21.637000           1608         33  1.0              \n",
            "mosapabdelghany/medical-insurance-cost-dataset             Medical Insurance Cost Dataset                        16425  2025-08-24 11:54:36.533000           1531         41  1.0              \n",
            "zadafiyabhrami/global-crocodile-species-dataset            Global Crocodile Species Dataset                      57473  2025-08-26 08:46:11.950000           1349         48  1.0              \n",
            "codebynadiia/gdp-per-country-20202025                      GDP per Country 2020–2025                              5677  2025-09-04 14:37:43.563000           1009         29  1.0              \n",
            "navjotkaushal/coffee-sales-dataset                         Coffee Sales Dataset                                  38970  2025-08-19 09:37:30.057000           8100        102  0.8235294        \n",
            "eshummalik/bmw-sales-dataset                               BMW_Sales_Dataset                                    853348  2025-09-05 08:28:34.630000           1602         41  1.0              \n",
            "arnabnahaushna/imdb-top-250-movies-of-all-time             IMDB - Top 250 Movies of All Time                     19974  2025-08-25 17:04:40.990000           1216         31  1.0              \n",
            "mirzayasirabdullah07/student-exam-scores-dataset           Student Exam Scores dataset                            2430  2025-08-20 07:26:47.233000           1927         32  0.88235295       \n",
            "ikramshah512/amazon-products-sales-dataset-42k-items-2025  Amazon Products Sales Dataset 42K+ Items - 2025     8086390  2025-09-01 02:31:27.053000           2586         44  1.0              \n",
            "poushal02/student-academic-stress-real-world-dataset       Student Academic Stress Real World Dataset             2104  2025-08-20 07:49:12.590000           6033        124  1.0              \n",
            "skmewati/myntra-sales-dataset                              Myntra Sales Dataset                                 412425  2025-08-25 10:11:46.670000           1759         30  0.7647059        \n",
            "tarekmasryo/football-matches-20242025-top-5-leagues        Football Matches & Results Dataset 2024/25         47076314  2025-09-11 23:36:59.213000            782         26  1.0              \n",
            "uom190346a/global-coffee-health-dataset                    Global Coffee Health Dataset                         188218  2025-08-22 15:26:30.493000           2713         53  0.9411765        \n",
            "ayushghawana/perfume-dataset                               Perfume Dataset                                       10691  2025-09-02 18:02:08.533000           1148         27  1.0              \n",
            "rohitgrewal/airlines-flights-data                          Airlines Flights Data                               2440299  2025-07-29 09:16:00.463000          26175        448  1.0              \n",
            "tarekmasryo/global-ev-charging-stations                    Global EV Charging Stations & Models               31762106  2025-09-09 22:59:32.543000           1358         27  1.0              \n",
            "rohitgrewal/hr-data-mnc                                    HR Dataset (Multinational Company)                 69930946  2025-08-23 06:53:08.740000           2160         52  1.0              \n"
          ]
        }
      ]
    },
    {
      "cell_type": "code",
      "source": [
        "#!/bin/bash\n",
        "!kaggle datasets download hgultekin/bbcnewsarchive"
      ],
      "metadata": {
        "colab": {
          "base_uri": "https://localhost:8080/"
        },
        "id": "LZpPkYRRiYHB",
        "outputId": "2e6815f4-285b-4b63-f39c-e94711991231"
      },
      "execution_count": 10,
      "outputs": [
        {
          "output_type": "stream",
          "name": "stdout",
          "text": [
            "Dataset URL: https://www.kaggle.com/datasets/hgultekin/bbcnewsarchive\n",
            "License(s): copyright-authors\n",
            "Downloading bbcnewsarchive.zip to /content\n",
            "  0% 0.00/1.81M [00:00<?, ?B/s]\n",
            "100% 1.81M/1.81M [00:00<00:00, 100MB/s]\n"
          ]
        }
      ]
    },
    {
      "cell_type": "code",
      "source": [
        "!unzip /content/bbcnewsarchive.zip"
      ],
      "metadata": {
        "colab": {
          "base_uri": "https://localhost:8080/"
        },
        "id": "wJ3Zn3nKib2s",
        "outputId": "aeaf4e87-6fe8-4c66-f889-20d80f996c6d"
      },
      "execution_count": 11,
      "outputs": [
        {
          "output_type": "stream",
          "name": "stdout",
          "text": [
            "Archive:  /content/bbcnewsarchive.zip\n",
            "  inflating: bbc-news-data.csv       \n"
          ]
        }
      ]
    },
    {
      "cell_type": "code",
      "source": [
        "import pandas as pd"
      ],
      "metadata": {
        "id": "y-FfoMbdhpnY"
      },
      "execution_count": 13,
      "outputs": []
    },
    {
      "cell_type": "code",
      "source": [
        "df = pd.read_csv('/content/bbc-news-data.csv',sep='\\t')"
      ],
      "metadata": {
        "id": "eRxlGR6xi0Yw"
      },
      "execution_count": 14,
      "outputs": []
    },
    {
      "cell_type": "code",
      "source": [
        "df.head()"
      ],
      "metadata": {
        "colab": {
          "base_uri": "https://localhost:8080/",
          "height": 206
        },
        "id": "IVbZL1kLi72K",
        "outputId": "529f8b24-54f0-4b22-988c-de97e7003820"
      },
      "execution_count": 15,
      "outputs": [
        {
          "output_type": "execute_result",
          "data": {
            "text/plain": [
              "   category filename                              title  \\\n",
              "0  business  001.txt  Ad sales boost Time Warner profit   \n",
              "1  business  002.txt   Dollar gains on Greenspan speech   \n",
              "2  business  003.txt  Yukos unit buyer faces loan claim   \n",
              "3  business  004.txt  High fuel prices hit BA's profits   \n",
              "4  business  005.txt  Pernod takeover talk lifts Domecq   \n",
              "\n",
              "                                             content  \n",
              "0   Quarterly profits at US media giant TimeWarne...  \n",
              "1   The dollar has hit its highest level against ...  \n",
              "2   The owners of embattled Russian oil giant Yuk...  \n",
              "3   British Airways has blamed high fuel prices f...  \n",
              "4   Shares in UK drinks and food firm Allied Dome...  "
            ],
            "text/html": [
              "\n",
              "  <div id=\"df-948dc770-abc1-462d-9fb8-5402d80501cf\" class=\"colab-df-container\">\n",
              "    <div>\n",
              "<style scoped>\n",
              "    .dataframe tbody tr th:only-of-type {\n",
              "        vertical-align: middle;\n",
              "    }\n",
              "\n",
              "    .dataframe tbody tr th {\n",
              "        vertical-align: top;\n",
              "    }\n",
              "\n",
              "    .dataframe thead th {\n",
              "        text-align: right;\n",
              "    }\n",
              "</style>\n",
              "<table border=\"1\" class=\"dataframe\">\n",
              "  <thead>\n",
              "    <tr style=\"text-align: right;\">\n",
              "      <th></th>\n",
              "      <th>category</th>\n",
              "      <th>filename</th>\n",
              "      <th>title</th>\n",
              "      <th>content</th>\n",
              "    </tr>\n",
              "  </thead>\n",
              "  <tbody>\n",
              "    <tr>\n",
              "      <th>0</th>\n",
              "      <td>business</td>\n",
              "      <td>001.txt</td>\n",
              "      <td>Ad sales boost Time Warner profit</td>\n",
              "      <td>Quarterly profits at US media giant TimeWarne...</td>\n",
              "    </tr>\n",
              "    <tr>\n",
              "      <th>1</th>\n",
              "      <td>business</td>\n",
              "      <td>002.txt</td>\n",
              "      <td>Dollar gains on Greenspan speech</td>\n",
              "      <td>The dollar has hit its highest level against ...</td>\n",
              "    </tr>\n",
              "    <tr>\n",
              "      <th>2</th>\n",
              "      <td>business</td>\n",
              "      <td>003.txt</td>\n",
              "      <td>Yukos unit buyer faces loan claim</td>\n",
              "      <td>The owners of embattled Russian oil giant Yuk...</td>\n",
              "    </tr>\n",
              "    <tr>\n",
              "      <th>3</th>\n",
              "      <td>business</td>\n",
              "      <td>004.txt</td>\n",
              "      <td>High fuel prices hit BA's profits</td>\n",
              "      <td>British Airways has blamed high fuel prices f...</td>\n",
              "    </tr>\n",
              "    <tr>\n",
              "      <th>4</th>\n",
              "      <td>business</td>\n",
              "      <td>005.txt</td>\n",
              "      <td>Pernod takeover talk lifts Domecq</td>\n",
              "      <td>Shares in UK drinks and food firm Allied Dome...</td>\n",
              "    </tr>\n",
              "  </tbody>\n",
              "</table>\n",
              "</div>\n",
              "    <div class=\"colab-df-buttons\">\n",
              "\n",
              "  <div class=\"colab-df-container\">\n",
              "    <button class=\"colab-df-convert\" onclick=\"convertToInteractive('df-948dc770-abc1-462d-9fb8-5402d80501cf')\"\n",
              "            title=\"Convert this dataframe to an interactive table.\"\n",
              "            style=\"display:none;\">\n",
              "\n",
              "  <svg xmlns=\"http://www.w3.org/2000/svg\" height=\"24px\" viewBox=\"0 -960 960 960\">\n",
              "    <path d=\"M120-120v-720h720v720H120Zm60-500h600v-160H180v160Zm220 220h160v-160H400v160Zm0 220h160v-160H400v160ZM180-400h160v-160H180v160Zm440 0h160v-160H620v160ZM180-180h160v-160H180v160Zm440 0h160v-160H620v160Z\"/>\n",
              "  </svg>\n",
              "    </button>\n",
              "\n",
              "  <style>\n",
              "    .colab-df-container {\n",
              "      display:flex;\n",
              "      gap: 12px;\n",
              "    }\n",
              "\n",
              "    .colab-df-convert {\n",
              "      background-color: #E8F0FE;\n",
              "      border: none;\n",
              "      border-radius: 50%;\n",
              "      cursor: pointer;\n",
              "      display: none;\n",
              "      fill: #1967D2;\n",
              "      height: 32px;\n",
              "      padding: 0 0 0 0;\n",
              "      width: 32px;\n",
              "    }\n",
              "\n",
              "    .colab-df-convert:hover {\n",
              "      background-color: #E2EBFA;\n",
              "      box-shadow: 0px 1px 2px rgba(60, 64, 67, 0.3), 0px 1px 3px 1px rgba(60, 64, 67, 0.15);\n",
              "      fill: #174EA6;\n",
              "    }\n",
              "\n",
              "    .colab-df-buttons div {\n",
              "      margin-bottom: 4px;\n",
              "    }\n",
              "\n",
              "    [theme=dark] .colab-df-convert {\n",
              "      background-color: #3B4455;\n",
              "      fill: #D2E3FC;\n",
              "    }\n",
              "\n",
              "    [theme=dark] .colab-df-convert:hover {\n",
              "      background-color: #434B5C;\n",
              "      box-shadow: 0px 1px 3px 1px rgba(0, 0, 0, 0.15);\n",
              "      filter: drop-shadow(0px 1px 2px rgba(0, 0, 0, 0.3));\n",
              "      fill: #FFFFFF;\n",
              "    }\n",
              "  </style>\n",
              "\n",
              "    <script>\n",
              "      const buttonEl =\n",
              "        document.querySelector('#df-948dc770-abc1-462d-9fb8-5402d80501cf button.colab-df-convert');\n",
              "      buttonEl.style.display =\n",
              "        google.colab.kernel.accessAllowed ? 'block' : 'none';\n",
              "\n",
              "      async function convertToInteractive(key) {\n",
              "        const element = document.querySelector('#df-948dc770-abc1-462d-9fb8-5402d80501cf');\n",
              "        const dataTable =\n",
              "          await google.colab.kernel.invokeFunction('convertToInteractive',\n",
              "                                                    [key], {});\n",
              "        if (!dataTable) return;\n",
              "\n",
              "        const docLinkHtml = 'Like what you see? Visit the ' +\n",
              "          '<a target=\"_blank\" href=https://colab.research.google.com/notebooks/data_table.ipynb>data table notebook</a>'\n",
              "          + ' to learn more about interactive tables.';\n",
              "        element.innerHTML = '';\n",
              "        dataTable['output_type'] = 'display_data';\n",
              "        await google.colab.output.renderOutput(dataTable, element);\n",
              "        const docLink = document.createElement('div');\n",
              "        docLink.innerHTML = docLinkHtml;\n",
              "        element.appendChild(docLink);\n",
              "      }\n",
              "    </script>\n",
              "  </div>\n",
              "\n",
              "\n",
              "    <div id=\"df-6579aa9c-6b9f-4815-8706-e4b75a300d6a\">\n",
              "      <button class=\"colab-df-quickchart\" onclick=\"quickchart('df-6579aa9c-6b9f-4815-8706-e4b75a300d6a')\"\n",
              "                title=\"Suggest charts\"\n",
              "                style=\"display:none;\">\n",
              "\n",
              "<svg xmlns=\"http://www.w3.org/2000/svg\" height=\"24px\"viewBox=\"0 0 24 24\"\n",
              "     width=\"24px\">\n",
              "    <g>\n",
              "        <path d=\"M19 3H5c-1.1 0-2 .9-2 2v14c0 1.1.9 2 2 2h14c1.1 0 2-.9 2-2V5c0-1.1-.9-2-2-2zM9 17H7v-7h2v7zm4 0h-2V7h2v10zm4 0h-2v-4h2v4z\"/>\n",
              "    </g>\n",
              "</svg>\n",
              "      </button>\n",
              "\n",
              "<style>\n",
              "  .colab-df-quickchart {\n",
              "      --bg-color: #E8F0FE;\n",
              "      --fill-color: #1967D2;\n",
              "      --hover-bg-color: #E2EBFA;\n",
              "      --hover-fill-color: #174EA6;\n",
              "      --disabled-fill-color: #AAA;\n",
              "      --disabled-bg-color: #DDD;\n",
              "  }\n",
              "\n",
              "  [theme=dark] .colab-df-quickchart {\n",
              "      --bg-color: #3B4455;\n",
              "      --fill-color: #D2E3FC;\n",
              "      --hover-bg-color: #434B5C;\n",
              "      --hover-fill-color: #FFFFFF;\n",
              "      --disabled-bg-color: #3B4455;\n",
              "      --disabled-fill-color: #666;\n",
              "  }\n",
              "\n",
              "  .colab-df-quickchart {\n",
              "    background-color: var(--bg-color);\n",
              "    border: none;\n",
              "    border-radius: 50%;\n",
              "    cursor: pointer;\n",
              "    display: none;\n",
              "    fill: var(--fill-color);\n",
              "    height: 32px;\n",
              "    padding: 0;\n",
              "    width: 32px;\n",
              "  }\n",
              "\n",
              "  .colab-df-quickchart:hover {\n",
              "    background-color: var(--hover-bg-color);\n",
              "    box-shadow: 0 1px 2px rgba(60, 64, 67, 0.3), 0 1px 3px 1px rgba(60, 64, 67, 0.15);\n",
              "    fill: var(--button-hover-fill-color);\n",
              "  }\n",
              "\n",
              "  .colab-df-quickchart-complete:disabled,\n",
              "  .colab-df-quickchart-complete:disabled:hover {\n",
              "    background-color: var(--disabled-bg-color);\n",
              "    fill: var(--disabled-fill-color);\n",
              "    box-shadow: none;\n",
              "  }\n",
              "\n",
              "  .colab-df-spinner {\n",
              "    border: 2px solid var(--fill-color);\n",
              "    border-color: transparent;\n",
              "    border-bottom-color: var(--fill-color);\n",
              "    animation:\n",
              "      spin 1s steps(1) infinite;\n",
              "  }\n",
              "\n",
              "  @keyframes spin {\n",
              "    0% {\n",
              "      border-color: transparent;\n",
              "      border-bottom-color: var(--fill-color);\n",
              "      border-left-color: var(--fill-color);\n",
              "    }\n",
              "    20% {\n",
              "      border-color: transparent;\n",
              "      border-left-color: var(--fill-color);\n",
              "      border-top-color: var(--fill-color);\n",
              "    }\n",
              "    30% {\n",
              "      border-color: transparent;\n",
              "      border-left-color: var(--fill-color);\n",
              "      border-top-color: var(--fill-color);\n",
              "      border-right-color: var(--fill-color);\n",
              "    }\n",
              "    40% {\n",
              "      border-color: transparent;\n",
              "      border-right-color: var(--fill-color);\n",
              "      border-top-color: var(--fill-color);\n",
              "    }\n",
              "    60% {\n",
              "      border-color: transparent;\n",
              "      border-right-color: var(--fill-color);\n",
              "    }\n",
              "    80% {\n",
              "      border-color: transparent;\n",
              "      border-right-color: var(--fill-color);\n",
              "      border-bottom-color: var(--fill-color);\n",
              "    }\n",
              "    90% {\n",
              "      border-color: transparent;\n",
              "      border-bottom-color: var(--fill-color);\n",
              "    }\n",
              "  }\n",
              "</style>\n",
              "\n",
              "      <script>\n",
              "        async function quickchart(key) {\n",
              "          const quickchartButtonEl =\n",
              "            document.querySelector('#' + key + ' button');\n",
              "          quickchartButtonEl.disabled = true;  // To prevent multiple clicks.\n",
              "          quickchartButtonEl.classList.add('colab-df-spinner');\n",
              "          try {\n",
              "            const charts = await google.colab.kernel.invokeFunction(\n",
              "                'suggestCharts', [key], {});\n",
              "          } catch (error) {\n",
              "            console.error('Error during call to suggestCharts:', error);\n",
              "          }\n",
              "          quickchartButtonEl.classList.remove('colab-df-spinner');\n",
              "          quickchartButtonEl.classList.add('colab-df-quickchart-complete');\n",
              "        }\n",
              "        (() => {\n",
              "          let quickchartButtonEl =\n",
              "            document.querySelector('#df-6579aa9c-6b9f-4815-8706-e4b75a300d6a button');\n",
              "          quickchartButtonEl.style.display =\n",
              "            google.colab.kernel.accessAllowed ? 'block' : 'none';\n",
              "        })();\n",
              "      </script>\n",
              "    </div>\n",
              "\n",
              "    </div>\n",
              "  </div>\n"
            ],
            "application/vnd.google.colaboratory.intrinsic+json": {
              "type": "dataframe",
              "variable_name": "df",
              "summary": "{\n  \"name\": \"df\",\n  \"rows\": 2225,\n  \"fields\": [\n    {\n      \"column\": \"category\",\n      \"properties\": {\n        \"dtype\": \"category\",\n        \"num_unique_values\": 5,\n        \"samples\": [\n          \"entertainment\",\n          \"tech\",\n          \"politics\"\n        ],\n        \"semantic_type\": \"\",\n        \"description\": \"\"\n      }\n    },\n    {\n      \"column\": \"filename\",\n      \"properties\": {\n        \"dtype\": \"category\",\n        \"num_unique_values\": 511,\n        \"samples\": [\n          \"125.txt\",\n          \"085.txt\",\n          \"434.txt\"\n        ],\n        \"semantic_type\": \"\",\n        \"description\": \"\"\n      }\n    },\n    {\n      \"column\": \"title\",\n      \"properties\": {\n        \"dtype\": \"string\",\n        \"num_unique_values\": 2096,\n        \"samples\": [\n          \"Soaring oil 'hits world economy'\",\n          \"Bollywood DVD fraudster is jailed\",\n          \"Bening makes awards breakthrough\"\n        ],\n        \"semantic_type\": \"\",\n        \"description\": \"\"\n      }\n    },\n    {\n      \"column\": \"content\",\n      \"properties\": {\n        \"dtype\": \"string\",\n        \"num_unique_values\": 2092,\n        \"samples\": [\n          \" Kenya's athletics body has suspended two-time London Marathon runner-up Susan Chepkemei from all competition until the end of the year.  Athletics Kenya (AK) issued the ban after Chepkemei failed to turn up for a cross country training camp in Embu. \\\"We have banned her from all local and international competitions,\\\" said AK chief Isaiah Kiplagat. \\\"We shall communicate this decision to the IAAF and all meet directors all over the world.\\\" The 29-year-old finished second to Paula Radcliffe in the 2002 and 2003 London races, and was also edged out in an epic New York Marathon contest last year.  But the ban will prevent the two-time world half-marathon silver medallist from challenging Radcliffe at this year's London event in April. Global Sports Communications, Chepkemei's management company, said she had wanted to run in the World Cross Country Championships in March. But AK maintained it was making an example of Chepkemei as a warning to other Kenyan athletes. \\\"We are taking this action in order to salvage our pride,\\\" said Kiplagat. \\\"We have been accused of having no teeth to bite with and that agents are ruling over us.\\\" KA has also threatened three-time women's short-course champion Edith Masai with a similar ban if reports that she feigned injury to avoid running at the cross country world championships are true. Masai missed the national trials in early February, but was included in the provisional team on the proviso that she ran in a regional competition. She failed to run in the event, citing a leg injury. \",\n          \" The soaring cost of oil has hit global economic growth, although world's major economies should weather the storm of price rises, according to the OECD.  In its latest bi-annual report, the OECD cut its growth predictions for the world's main industrialised regions. US growth would reach 4.4% in 2004, but fall to 3.3% next year from a previous estimate of 3.7%, the OECD said. However, the Paris-based economics think tank said it believed the global economy could still regain momentum.  Forecasts for Japanese growth were also scaled back to 4.0% from 4.4% this year and 2.1% from 2.8% in 2005. But the outlook was worst for the 12-member eurozone bloc, with already sluggish growth forecasts slipping to 1.8% from 2.0% this year and 1.9% from 2.4% in 2005, the OECD said. Overall, the report forecast total growth of 3.6% in 2004 for the 30 member countries of the OECD, slipping to 2.9% next year before recovering to 3.1% in 2006. \\\"There are nonetheless good reasons to believe that despite recent oil price turbulence the world economy will regain momentum in a not-too-distant future,\\\" said Jean-Philippe Cotis, the OECD's chief economist. The price of crude is about 50% higher than it was at the start of 2004, but down on the record high of $55.67 set in late October.  A dip in oil prices and improving jobs prospects would improve consumer confidence and spending, the OECD said. \\\"The oil shock is not enormous by historical standards - we have seen worse in the seventies. If the oil price does not rise any further, then we think the shock can be absorbed within the next few quarters,\\\" Vincent Koen, a senior economist with the OECD, told the BBC's World Business Report. \\\"The recovery that was underway, and has been interrupted a bit by the oil shock this year, would then regain momentum in the course of 2005.\\\" China's booming economy and a \\\"spectacular comeback\\\" in Japan - albeit one that has faltered in recent months - would help world economic recovery, the OECD said. \\\"Supported by strong balance sheets and high profits, the recovery of business investment should continue in North America and start in earnest in Europe,\\\" it added. However, the report warned: \\\"It remains to be seen whether continental Europe will play a strong supportive role through a marked upswing of final domestic demand.\\\" The OECD highlighted current depressed household expenditure in Germany and the eurozone's over-reliance on export-led growth. \",\n          \" Consumer electronics giants Hitachi and Matshushita Electric are joining forces to share and develop technology for flat screen televisions.  The tie-up comes as the world's top producers are having to contend with falling prices and intense competition. The two Japanese companies will collaborate in research & development, production, marketing and licensing. They said the agreement would enable the two companies to expand the plasma display TV market globally.  Plasma display panels are used for large, thin TVs which are replacing old-style televisions. The display market for high-definition televisions is split between models using plasma display panels and others - manufactured by the likes of Sony and Samsung - using liquid-crystal displays (LCDs). The deal will enable Hitachi and Matsushita, which makes Panasonic brand products, to develop new technology and improve their competitiveness. Hitachi recently announced a deal to buy plasma display technology from rival Fujitsu in an effort to strengthen its presence in the market.  Separately, Fujitsu announced on Monday that it is quitting the LCD panel market by transferring its operations in the area to Japanese manufacturer Sharp. Sharp will inherit staff, manufacturing facilities and intellectual property from Fujitsu. The plasma panel market has seen rapid consolidation in recent months as the price of consumer electronic goods and components has fallen. Samsung Electronics and Sony are among other companies working together to reduce costs and speed up new product development. \"\n        ],\n        \"semantic_type\": \"\",\n        \"description\": \"\"\n      }\n    }\n  ]\n}"
            }
          },
          "metadata": {},
          "execution_count": 15
        }
      ]
    },
    {
      "cell_type": "code",
      "source": [
        "df['category'].value_counts()"
      ],
      "metadata": {
        "colab": {
          "base_uri": "https://localhost:8080/",
          "height": 272
        },
        "id": "sUSA8kNdi8e6",
        "outputId": "fa812f61-ca76-48d7-9edc-3e09611d7b49"
      },
      "execution_count": 16,
      "outputs": [
        {
          "output_type": "execute_result",
          "data": {
            "text/plain": [
              "category\n",
              "sport            511\n",
              "business         510\n",
              "politics         417\n",
              "tech             401\n",
              "entertainment    386\n",
              "Name: count, dtype: int64"
            ],
            "text/html": [
              "<div>\n",
              "<style scoped>\n",
              "    .dataframe tbody tr th:only-of-type {\n",
              "        vertical-align: middle;\n",
              "    }\n",
              "\n",
              "    .dataframe tbody tr th {\n",
              "        vertical-align: top;\n",
              "    }\n",
              "\n",
              "    .dataframe thead th {\n",
              "        text-align: right;\n",
              "    }\n",
              "</style>\n",
              "<table border=\"1\" class=\"dataframe\">\n",
              "  <thead>\n",
              "    <tr style=\"text-align: right;\">\n",
              "      <th></th>\n",
              "      <th>count</th>\n",
              "    </tr>\n",
              "    <tr>\n",
              "      <th>category</th>\n",
              "      <th></th>\n",
              "    </tr>\n",
              "  </thead>\n",
              "  <tbody>\n",
              "    <tr>\n",
              "      <th>sport</th>\n",
              "      <td>511</td>\n",
              "    </tr>\n",
              "    <tr>\n",
              "      <th>business</th>\n",
              "      <td>510</td>\n",
              "    </tr>\n",
              "    <tr>\n",
              "      <th>politics</th>\n",
              "      <td>417</td>\n",
              "    </tr>\n",
              "    <tr>\n",
              "      <th>tech</th>\n",
              "      <td>401</td>\n",
              "    </tr>\n",
              "    <tr>\n",
              "      <th>entertainment</th>\n",
              "      <td>386</td>\n",
              "    </tr>\n",
              "  </tbody>\n",
              "</table>\n",
              "</div><br><label><b>dtype:</b> int64</label>"
            ]
          },
          "metadata": {},
          "execution_count": 16
        }
      ]
    },
    {
      "cell_type": "code",
      "source": [
        "df.dropna(inplace=True)"
      ],
      "metadata": {
        "id": "i06mHtCBjEMu"
      },
      "execution_count": 17,
      "outputs": []
    },
    {
      "cell_type": "code",
      "source": [
        "df.drop_duplicates(inplace=True)"
      ],
      "metadata": {
        "id": "in78AtNZjKdd"
      },
      "execution_count": 18,
      "outputs": []
    },
    {
      "cell_type": "code",
      "source": [
        "df.isnull().sum()"
      ],
      "metadata": {
        "colab": {
          "base_uri": "https://localhost:8080/",
          "height": 209
        },
        "id": "RK_-QiAPjNJ3",
        "outputId": "9a3e5869-2d07-4fb9-e898-dc1959f6a425"
      },
      "execution_count": 19,
      "outputs": [
        {
          "output_type": "execute_result",
          "data": {
            "text/plain": [
              "category    0\n",
              "filename    0\n",
              "title       0\n",
              "content     0\n",
              "dtype: int64"
            ],
            "text/html": [
              "<div>\n",
              "<style scoped>\n",
              "    .dataframe tbody tr th:only-of-type {\n",
              "        vertical-align: middle;\n",
              "    }\n",
              "\n",
              "    .dataframe tbody tr th {\n",
              "        vertical-align: top;\n",
              "    }\n",
              "\n",
              "    .dataframe thead th {\n",
              "        text-align: right;\n",
              "    }\n",
              "</style>\n",
              "<table border=\"1\" class=\"dataframe\">\n",
              "  <thead>\n",
              "    <tr style=\"text-align: right;\">\n",
              "      <th></th>\n",
              "      <th>0</th>\n",
              "    </tr>\n",
              "  </thead>\n",
              "  <tbody>\n",
              "    <tr>\n",
              "      <th>category</th>\n",
              "      <td>0</td>\n",
              "    </tr>\n",
              "    <tr>\n",
              "      <th>filename</th>\n",
              "      <td>0</td>\n",
              "    </tr>\n",
              "    <tr>\n",
              "      <th>title</th>\n",
              "      <td>0</td>\n",
              "    </tr>\n",
              "    <tr>\n",
              "      <th>content</th>\n",
              "      <td>0</td>\n",
              "    </tr>\n",
              "  </tbody>\n",
              "</table>\n",
              "</div><br><label><b>dtype:</b> int64</label>"
            ]
          },
          "metadata": {},
          "execution_count": 19
        }
      ]
    },
    {
      "cell_type": "code",
      "source": [
        "df.shape"
      ],
      "metadata": {
        "colab": {
          "base_uri": "https://localhost:8080/"
        },
        "id": "sA-1Fu8HjOg6",
        "outputId": "82196bbd-c65d-4eae-f58d-d1c03fd8433c"
      },
      "execution_count": 20,
      "outputs": [
        {
          "output_type": "execute_result",
          "data": {
            "text/plain": [
              "(2225, 4)"
            ]
          },
          "metadata": {},
          "execution_count": 20
        }
      ]
    },
    {
      "cell_type": "code",
      "source": [
        "df.size"
      ],
      "metadata": {
        "colab": {
          "base_uri": "https://localhost:8080/"
        },
        "id": "TFIYoDI9jSbn",
        "outputId": "300c9fb1-ba17-4511-d461-0f501da63151"
      },
      "execution_count": 21,
      "outputs": [
        {
          "output_type": "execute_result",
          "data": {
            "text/plain": [
              "8900"
            ]
          },
          "metadata": {},
          "execution_count": 21
        }
      ]
    },
    {
      "cell_type": "code",
      "source": [
        "df.ndim"
      ],
      "metadata": {
        "colab": {
          "base_uri": "https://localhost:8080/"
        },
        "id": "GzmhRX_pjTmB",
        "outputId": "abbb86c4-1306-4d23-cf00-e28c79765247"
      },
      "execution_count": 22,
      "outputs": [
        {
          "output_type": "execute_result",
          "data": {
            "text/plain": [
              "2"
            ]
          },
          "metadata": {},
          "execution_count": 22
        }
      ]
    },
    {
      "cell_type": "code",
      "source": [
        "import tensorflow\n",
        "from tensorflow.keras.layers import SimpleRNN,Dense,Embedding,LSTM\n",
        "from tensorflow.keras.models import Sequential\n",
        "from tensorflow.keras.preprocessing.text import Tokenizer\n",
        "from tensorflow.keras.preprocessing.sequence import pad_sequences"
      ],
      "metadata": {
        "id": "FnXXUMJqjUgU"
      },
      "execution_count": 23,
      "outputs": []
    },
    {
      "cell_type": "code",
      "source": [
        "import nltk\n",
        "nltk.download('stopwords')\n",
        "from nltk.corpus import stopwords\n",
        "stop_words = set(stopwords.words('english'))"
      ],
      "metadata": {
        "colab": {
          "base_uri": "https://localhost:8080/"
        },
        "id": "Wzc3K9vHlLZq",
        "outputId": "c18cb366-f4a9-4c9b-f909-1dab9beea4ee"
      },
      "execution_count": 24,
      "outputs": [
        {
          "output_type": "stream",
          "name": "stderr",
          "text": [
            "[nltk_data] Downloading package stopwords to /root/nltk_data...\n",
            "[nltk_data]   Unzipping corpora/stopwords.zip.\n"
          ]
        }
      ]
    },
    {
      "cell_type": "code",
      "source": [
        "def data_clean(text):\n",
        "  text = text.lower()\n",
        "  text = text.replace('.','. ')\n",
        "  tokens = [word for word in text.split() if not word in stop_words]\n",
        "  text = \" \".join(tokens)\n",
        "  text = text.strip()\n",
        "  return (text)"
      ],
      "metadata": {
        "id": "h4y2KGp4ksLg"
      },
      "execution_count": 25,
      "outputs": []
    },
    {
      "cell_type": "code",
      "source": [
        "df['title'] = df['title'].apply(lambda x:data_clean(x))"
      ],
      "metadata": {
        "id": "wT441MG9ly8K"
      },
      "execution_count": 26,
      "outputs": []
    },
    {
      "cell_type": "code",
      "source": [
        "df.head()"
      ],
      "metadata": {
        "colab": {
          "base_uri": "https://localhost:8080/",
          "height": 206
        },
        "id": "amSJQa_Kl6RT",
        "outputId": "c5eb9f88-5e55-4c9e-ad19-0c359843a931"
      },
      "execution_count": 27,
      "outputs": [
        {
          "output_type": "execute_result",
          "data": {
            "text/plain": [
              "   category filename                              title  \\\n",
              "0  business  001.txt  ad sales boost time warner profit   \n",
              "1  business  002.txt      dollar gains greenspan speech   \n",
              "2  business  003.txt  yukos unit buyer faces loan claim   \n",
              "3  business  004.txt  high fuel prices hit ba's profits   \n",
              "4  business  005.txt  pernod takeover talk lifts domecq   \n",
              "\n",
              "                                             content  \n",
              "0   Quarterly profits at US media giant TimeWarne...  \n",
              "1   The dollar has hit its highest level against ...  \n",
              "2   The owners of embattled Russian oil giant Yuk...  \n",
              "3   British Airways has blamed high fuel prices f...  \n",
              "4   Shares in UK drinks and food firm Allied Dome...  "
            ],
            "text/html": [
              "\n",
              "  <div id=\"df-5178662f-2328-4e7a-abae-c86bc388a2f7\" class=\"colab-df-container\">\n",
              "    <div>\n",
              "<style scoped>\n",
              "    .dataframe tbody tr th:only-of-type {\n",
              "        vertical-align: middle;\n",
              "    }\n",
              "\n",
              "    .dataframe tbody tr th {\n",
              "        vertical-align: top;\n",
              "    }\n",
              "\n",
              "    .dataframe thead th {\n",
              "        text-align: right;\n",
              "    }\n",
              "</style>\n",
              "<table border=\"1\" class=\"dataframe\">\n",
              "  <thead>\n",
              "    <tr style=\"text-align: right;\">\n",
              "      <th></th>\n",
              "      <th>category</th>\n",
              "      <th>filename</th>\n",
              "      <th>title</th>\n",
              "      <th>content</th>\n",
              "    </tr>\n",
              "  </thead>\n",
              "  <tbody>\n",
              "    <tr>\n",
              "      <th>0</th>\n",
              "      <td>business</td>\n",
              "      <td>001.txt</td>\n",
              "      <td>ad sales boost time warner profit</td>\n",
              "      <td>Quarterly profits at US media giant TimeWarne...</td>\n",
              "    </tr>\n",
              "    <tr>\n",
              "      <th>1</th>\n",
              "      <td>business</td>\n",
              "      <td>002.txt</td>\n",
              "      <td>dollar gains greenspan speech</td>\n",
              "      <td>The dollar has hit its highest level against ...</td>\n",
              "    </tr>\n",
              "    <tr>\n",
              "      <th>2</th>\n",
              "      <td>business</td>\n",
              "      <td>003.txt</td>\n",
              "      <td>yukos unit buyer faces loan claim</td>\n",
              "      <td>The owners of embattled Russian oil giant Yuk...</td>\n",
              "    </tr>\n",
              "    <tr>\n",
              "      <th>3</th>\n",
              "      <td>business</td>\n",
              "      <td>004.txt</td>\n",
              "      <td>high fuel prices hit ba's profits</td>\n",
              "      <td>British Airways has blamed high fuel prices f...</td>\n",
              "    </tr>\n",
              "    <tr>\n",
              "      <th>4</th>\n",
              "      <td>business</td>\n",
              "      <td>005.txt</td>\n",
              "      <td>pernod takeover talk lifts domecq</td>\n",
              "      <td>Shares in UK drinks and food firm Allied Dome...</td>\n",
              "    </tr>\n",
              "  </tbody>\n",
              "</table>\n",
              "</div>\n",
              "    <div class=\"colab-df-buttons\">\n",
              "\n",
              "  <div class=\"colab-df-container\">\n",
              "    <button class=\"colab-df-convert\" onclick=\"convertToInteractive('df-5178662f-2328-4e7a-abae-c86bc388a2f7')\"\n",
              "            title=\"Convert this dataframe to an interactive table.\"\n",
              "            style=\"display:none;\">\n",
              "\n",
              "  <svg xmlns=\"http://www.w3.org/2000/svg\" height=\"24px\" viewBox=\"0 -960 960 960\">\n",
              "    <path d=\"M120-120v-720h720v720H120Zm60-500h600v-160H180v160Zm220 220h160v-160H400v160Zm0 220h160v-160H400v160ZM180-400h160v-160H180v160Zm440 0h160v-160H620v160ZM180-180h160v-160H180v160Zm440 0h160v-160H620v160Z\"/>\n",
              "  </svg>\n",
              "    </button>\n",
              "\n",
              "  <style>\n",
              "    .colab-df-container {\n",
              "      display:flex;\n",
              "      gap: 12px;\n",
              "    }\n",
              "\n",
              "    .colab-df-convert {\n",
              "      background-color: #E8F0FE;\n",
              "      border: none;\n",
              "      border-radius: 50%;\n",
              "      cursor: pointer;\n",
              "      display: none;\n",
              "      fill: #1967D2;\n",
              "      height: 32px;\n",
              "      padding: 0 0 0 0;\n",
              "      width: 32px;\n",
              "    }\n",
              "\n",
              "    .colab-df-convert:hover {\n",
              "      background-color: #E2EBFA;\n",
              "      box-shadow: 0px 1px 2px rgba(60, 64, 67, 0.3), 0px 1px 3px 1px rgba(60, 64, 67, 0.15);\n",
              "      fill: #174EA6;\n",
              "    }\n",
              "\n",
              "    .colab-df-buttons div {\n",
              "      margin-bottom: 4px;\n",
              "    }\n",
              "\n",
              "    [theme=dark] .colab-df-convert {\n",
              "      background-color: #3B4455;\n",
              "      fill: #D2E3FC;\n",
              "    }\n",
              "\n",
              "    [theme=dark] .colab-df-convert:hover {\n",
              "      background-color: #434B5C;\n",
              "      box-shadow: 0px 1px 3px 1px rgba(0, 0, 0, 0.15);\n",
              "      filter: drop-shadow(0px 1px 2px rgba(0, 0, 0, 0.3));\n",
              "      fill: #FFFFFF;\n",
              "    }\n",
              "  </style>\n",
              "\n",
              "    <script>\n",
              "      const buttonEl =\n",
              "        document.querySelector('#df-5178662f-2328-4e7a-abae-c86bc388a2f7 button.colab-df-convert');\n",
              "      buttonEl.style.display =\n",
              "        google.colab.kernel.accessAllowed ? 'block' : 'none';\n",
              "\n",
              "      async function convertToInteractive(key) {\n",
              "        const element = document.querySelector('#df-5178662f-2328-4e7a-abae-c86bc388a2f7');\n",
              "        const dataTable =\n",
              "          await google.colab.kernel.invokeFunction('convertToInteractive',\n",
              "                                                    [key], {});\n",
              "        if (!dataTable) return;\n",
              "\n",
              "        const docLinkHtml = 'Like what you see? Visit the ' +\n",
              "          '<a target=\"_blank\" href=https://colab.research.google.com/notebooks/data_table.ipynb>data table notebook</a>'\n",
              "          + ' to learn more about interactive tables.';\n",
              "        element.innerHTML = '';\n",
              "        dataTable['output_type'] = 'display_data';\n",
              "        await google.colab.output.renderOutput(dataTable, element);\n",
              "        const docLink = document.createElement('div');\n",
              "        docLink.innerHTML = docLinkHtml;\n",
              "        element.appendChild(docLink);\n",
              "      }\n",
              "    </script>\n",
              "  </div>\n",
              "\n",
              "\n",
              "    <div id=\"df-5b8fed31-7ef2-47d9-aba4-60ac5ef8adfd\">\n",
              "      <button class=\"colab-df-quickchart\" onclick=\"quickchart('df-5b8fed31-7ef2-47d9-aba4-60ac5ef8adfd')\"\n",
              "                title=\"Suggest charts\"\n",
              "                style=\"display:none;\">\n",
              "\n",
              "<svg xmlns=\"http://www.w3.org/2000/svg\" height=\"24px\"viewBox=\"0 0 24 24\"\n",
              "     width=\"24px\">\n",
              "    <g>\n",
              "        <path d=\"M19 3H5c-1.1 0-2 .9-2 2v14c0 1.1.9 2 2 2h14c1.1 0 2-.9 2-2V5c0-1.1-.9-2-2-2zM9 17H7v-7h2v7zm4 0h-2V7h2v10zm4 0h-2v-4h2v4z\"/>\n",
              "    </g>\n",
              "</svg>\n",
              "      </button>\n",
              "\n",
              "<style>\n",
              "  .colab-df-quickchart {\n",
              "      --bg-color: #E8F0FE;\n",
              "      --fill-color: #1967D2;\n",
              "      --hover-bg-color: #E2EBFA;\n",
              "      --hover-fill-color: #174EA6;\n",
              "      --disabled-fill-color: #AAA;\n",
              "      --disabled-bg-color: #DDD;\n",
              "  }\n",
              "\n",
              "  [theme=dark] .colab-df-quickchart {\n",
              "      --bg-color: #3B4455;\n",
              "      --fill-color: #D2E3FC;\n",
              "      --hover-bg-color: #434B5C;\n",
              "      --hover-fill-color: #FFFFFF;\n",
              "      --disabled-bg-color: #3B4455;\n",
              "      --disabled-fill-color: #666;\n",
              "  }\n",
              "\n",
              "  .colab-df-quickchart {\n",
              "    background-color: var(--bg-color);\n",
              "    border: none;\n",
              "    border-radius: 50%;\n",
              "    cursor: pointer;\n",
              "    display: none;\n",
              "    fill: var(--fill-color);\n",
              "    height: 32px;\n",
              "    padding: 0;\n",
              "    width: 32px;\n",
              "  }\n",
              "\n",
              "  .colab-df-quickchart:hover {\n",
              "    background-color: var(--hover-bg-color);\n",
              "    box-shadow: 0 1px 2px rgba(60, 64, 67, 0.3), 0 1px 3px 1px rgba(60, 64, 67, 0.15);\n",
              "    fill: var(--button-hover-fill-color);\n",
              "  }\n",
              "\n",
              "  .colab-df-quickchart-complete:disabled,\n",
              "  .colab-df-quickchart-complete:disabled:hover {\n",
              "    background-color: var(--disabled-bg-color);\n",
              "    fill: var(--disabled-fill-color);\n",
              "    box-shadow: none;\n",
              "  }\n",
              "\n",
              "  .colab-df-spinner {\n",
              "    border: 2px solid var(--fill-color);\n",
              "    border-color: transparent;\n",
              "    border-bottom-color: var(--fill-color);\n",
              "    animation:\n",
              "      spin 1s steps(1) infinite;\n",
              "  }\n",
              "\n",
              "  @keyframes spin {\n",
              "    0% {\n",
              "      border-color: transparent;\n",
              "      border-bottom-color: var(--fill-color);\n",
              "      border-left-color: var(--fill-color);\n",
              "    }\n",
              "    20% {\n",
              "      border-color: transparent;\n",
              "      border-left-color: var(--fill-color);\n",
              "      border-top-color: var(--fill-color);\n",
              "    }\n",
              "    30% {\n",
              "      border-color: transparent;\n",
              "      border-left-color: var(--fill-color);\n",
              "      border-top-color: var(--fill-color);\n",
              "      border-right-color: var(--fill-color);\n",
              "    }\n",
              "    40% {\n",
              "      border-color: transparent;\n",
              "      border-right-color: var(--fill-color);\n",
              "      border-top-color: var(--fill-color);\n",
              "    }\n",
              "    60% {\n",
              "      border-color: transparent;\n",
              "      border-right-color: var(--fill-color);\n",
              "    }\n",
              "    80% {\n",
              "      border-color: transparent;\n",
              "      border-right-color: var(--fill-color);\n",
              "      border-bottom-color: var(--fill-color);\n",
              "    }\n",
              "    90% {\n",
              "      border-color: transparent;\n",
              "      border-bottom-color: var(--fill-color);\n",
              "    }\n",
              "  }\n",
              "</style>\n",
              "\n",
              "      <script>\n",
              "        async function quickchart(key) {\n",
              "          const quickchartButtonEl =\n",
              "            document.querySelector('#' + key + ' button');\n",
              "          quickchartButtonEl.disabled = true;  // To prevent multiple clicks.\n",
              "          quickchartButtonEl.classList.add('colab-df-spinner');\n",
              "          try {\n",
              "            const charts = await google.colab.kernel.invokeFunction(\n",
              "                'suggestCharts', [key], {});\n",
              "          } catch (error) {\n",
              "            console.error('Error during call to suggestCharts:', error);\n",
              "          }\n",
              "          quickchartButtonEl.classList.remove('colab-df-spinner');\n",
              "          quickchartButtonEl.classList.add('colab-df-quickchart-complete');\n",
              "        }\n",
              "        (() => {\n",
              "          let quickchartButtonEl =\n",
              "            document.querySelector('#df-5b8fed31-7ef2-47d9-aba4-60ac5ef8adfd button');\n",
              "          quickchartButtonEl.style.display =\n",
              "            google.colab.kernel.accessAllowed ? 'block' : 'none';\n",
              "        })();\n",
              "      </script>\n",
              "    </div>\n",
              "\n",
              "    </div>\n",
              "  </div>\n"
            ],
            "application/vnd.google.colaboratory.intrinsic+json": {
              "type": "dataframe",
              "variable_name": "df",
              "summary": "{\n  \"name\": \"df\",\n  \"rows\": 2225,\n  \"fields\": [\n    {\n      \"column\": \"category\",\n      \"properties\": {\n        \"dtype\": \"category\",\n        \"num_unique_values\": 5,\n        \"samples\": [\n          \"entertainment\",\n          \"tech\",\n          \"politics\"\n        ],\n        \"semantic_type\": \"\",\n        \"description\": \"\"\n      }\n    },\n    {\n      \"column\": \"filename\",\n      \"properties\": {\n        \"dtype\": \"category\",\n        \"num_unique_values\": 511,\n        \"samples\": [\n          \"125.txt\",\n          \"085.txt\",\n          \"434.txt\"\n        ],\n        \"semantic_type\": \"\",\n        \"description\": \"\"\n      }\n    },\n    {\n      \"column\": \"title\",\n      \"properties\": {\n        \"dtype\": \"string\",\n        \"num_unique_values\": 2094,\n        \"samples\": [\n          \"rusedski angry supplements\",\n          \"johnson strong gb runners\",\n          \"bollywood dvd fraudster jailed\"\n        ],\n        \"semantic_type\": \"\",\n        \"description\": \"\"\n      }\n    },\n    {\n      \"column\": \"content\",\n      \"properties\": {\n        \"dtype\": \"string\",\n        \"num_unique_values\": 2092,\n        \"samples\": [\n          \" Kenya's athletics body has suspended two-time London Marathon runner-up Susan Chepkemei from all competition until the end of the year.  Athletics Kenya (AK) issued the ban after Chepkemei failed to turn up for a cross country training camp in Embu. \\\"We have banned her from all local and international competitions,\\\" said AK chief Isaiah Kiplagat. \\\"We shall communicate this decision to the IAAF and all meet directors all over the world.\\\" The 29-year-old finished second to Paula Radcliffe in the 2002 and 2003 London races, and was also edged out in an epic New York Marathon contest last year.  But the ban will prevent the two-time world half-marathon silver medallist from challenging Radcliffe at this year's London event in April. Global Sports Communications, Chepkemei's management company, said she had wanted to run in the World Cross Country Championships in March. But AK maintained it was making an example of Chepkemei as a warning to other Kenyan athletes. \\\"We are taking this action in order to salvage our pride,\\\" said Kiplagat. \\\"We have been accused of having no teeth to bite with and that agents are ruling over us.\\\" KA has also threatened three-time women's short-course champion Edith Masai with a similar ban if reports that she feigned injury to avoid running at the cross country world championships are true. Masai missed the national trials in early February, but was included in the provisional team on the proviso that she ran in a regional competition. She failed to run in the event, citing a leg injury. \",\n          \" The soaring cost of oil has hit global economic growth, although world's major economies should weather the storm of price rises, according to the OECD.  In its latest bi-annual report, the OECD cut its growth predictions for the world's main industrialised regions. US growth would reach 4.4% in 2004, but fall to 3.3% next year from a previous estimate of 3.7%, the OECD said. However, the Paris-based economics think tank said it believed the global economy could still regain momentum.  Forecasts for Japanese growth were also scaled back to 4.0% from 4.4% this year and 2.1% from 2.8% in 2005. But the outlook was worst for the 12-member eurozone bloc, with already sluggish growth forecasts slipping to 1.8% from 2.0% this year and 1.9% from 2.4% in 2005, the OECD said. Overall, the report forecast total growth of 3.6% in 2004 for the 30 member countries of the OECD, slipping to 2.9% next year before recovering to 3.1% in 2006. \\\"There are nonetheless good reasons to believe that despite recent oil price turbulence the world economy will regain momentum in a not-too-distant future,\\\" said Jean-Philippe Cotis, the OECD's chief economist. The price of crude is about 50% higher than it was at the start of 2004, but down on the record high of $55.67 set in late October.  A dip in oil prices and improving jobs prospects would improve consumer confidence and spending, the OECD said. \\\"The oil shock is not enormous by historical standards - we have seen worse in the seventies. If the oil price does not rise any further, then we think the shock can be absorbed within the next few quarters,\\\" Vincent Koen, a senior economist with the OECD, told the BBC's World Business Report. \\\"The recovery that was underway, and has been interrupted a bit by the oil shock this year, would then regain momentum in the course of 2005.\\\" China's booming economy and a \\\"spectacular comeback\\\" in Japan - albeit one that has faltered in recent months - would help world economic recovery, the OECD said. \\\"Supported by strong balance sheets and high profits, the recovery of business investment should continue in North America and start in earnest in Europe,\\\" it added. However, the report warned: \\\"It remains to be seen whether continental Europe will play a strong supportive role through a marked upswing of final domestic demand.\\\" The OECD highlighted current depressed household expenditure in Germany and the eurozone's over-reliance on export-led growth. \",\n          \" Consumer electronics giants Hitachi and Matshushita Electric are joining forces to share and develop technology for flat screen televisions.  The tie-up comes as the world's top producers are having to contend with falling prices and intense competition. The two Japanese companies will collaborate in research & development, production, marketing and licensing. They said the agreement would enable the two companies to expand the plasma display TV market globally.  Plasma display panels are used for large, thin TVs which are replacing old-style televisions. The display market for high-definition televisions is split between models using plasma display panels and others - manufactured by the likes of Sony and Samsung - using liquid-crystal displays (LCDs). The deal will enable Hitachi and Matsushita, which makes Panasonic brand products, to develop new technology and improve their competitiveness. Hitachi recently announced a deal to buy plasma display technology from rival Fujitsu in an effort to strengthen its presence in the market.  Separately, Fujitsu announced on Monday that it is quitting the LCD panel market by transferring its operations in the area to Japanese manufacturer Sharp. Sharp will inherit staff, manufacturing facilities and intellectual property from Fujitsu. The plasma panel market has seen rapid consolidation in recent months as the price of consumer electronic goods and components has fallen. Samsung Electronics and Sony are among other companies working together to reduce costs and speed up new product development. \"\n        ],\n        \"semantic_type\": \"\",\n        \"description\": \"\"\n      }\n    }\n  ]\n}"
            }
          },
          "metadata": {},
          "execution_count": 27
        }
      ]
    },
    {
      "cell_type": "code",
      "source": [
        "max(df['title'].str.split(' ').str.len())"
      ],
      "metadata": {
        "colab": {
          "base_uri": "https://localhost:8080/"
        },
        "id": "ROZeynudl7F2",
        "outputId": "37789844-e95b-4d53-920d-245b9b758435"
      },
      "execution_count": 28,
      "outputs": [
        {
          "output_type": "execute_result",
          "data": {
            "text/plain": [
              "7"
            ]
          },
          "metadata": {},
          "execution_count": 28
        }
      ]
    },
    {
      "cell_type": "code",
      "source": [
        "from sklearn.model_selection import train_test_split"
      ],
      "metadata": {
        "id": "PBc6s6MBmPvY"
      },
      "execution_count": 29,
      "outputs": []
    },
    {
      "cell_type": "code",
      "source": [
        "X_train,X_test,y_train,y_test = train_test_split(df['title'],df['category'],test_size=0.2,random_state=42)"
      ],
      "metadata": {
        "id": "xL_StIIumimc"
      },
      "execution_count": 30,
      "outputs": []
    },
    {
      "cell_type": "code",
      "source": [
        "X_train.reset_index(drop=True,inplace=True)\n",
        "X_test.reset_index(drop=True,inplace=True)\n",
        "y_train.reset_index(drop=True,inplace=True)\n",
        "y_test.reset_index(drop=True,inplace=True)"
      ],
      "metadata": {
        "id": "qn85Ud3emwo5"
      },
      "execution_count": 31,
      "outputs": []
    },
    {
      "cell_type": "code",
      "source": [
        "y_train.head()"
      ],
      "metadata": {
        "colab": {
          "base_uri": "https://localhost:8080/",
          "height": 241
        },
        "id": "rP6tQre9nCOh",
        "outputId": "d23922b0-c455-4e5a-cec2-7efafbd196b0"
      },
      "execution_count": 32,
      "outputs": [
        {
          "output_type": "execute_result",
          "data": {
            "text/plain": [
              "0            sport\n",
              "1             tech\n",
              "2            sport\n",
              "3             tech\n",
              "4    entertainment\n",
              "Name: category, dtype: object"
            ],
            "text/html": [
              "<div>\n",
              "<style scoped>\n",
              "    .dataframe tbody tr th:only-of-type {\n",
              "        vertical-align: middle;\n",
              "    }\n",
              "\n",
              "    .dataframe tbody tr th {\n",
              "        vertical-align: top;\n",
              "    }\n",
              "\n",
              "    .dataframe thead th {\n",
              "        text-align: right;\n",
              "    }\n",
              "</style>\n",
              "<table border=\"1\" class=\"dataframe\">\n",
              "  <thead>\n",
              "    <tr style=\"text-align: right;\">\n",
              "      <th></th>\n",
              "      <th>category</th>\n",
              "    </tr>\n",
              "  </thead>\n",
              "  <tbody>\n",
              "    <tr>\n",
              "      <th>0</th>\n",
              "      <td>sport</td>\n",
              "    </tr>\n",
              "    <tr>\n",
              "      <th>1</th>\n",
              "      <td>tech</td>\n",
              "    </tr>\n",
              "    <tr>\n",
              "      <th>2</th>\n",
              "      <td>sport</td>\n",
              "    </tr>\n",
              "    <tr>\n",
              "      <th>3</th>\n",
              "      <td>tech</td>\n",
              "    </tr>\n",
              "    <tr>\n",
              "      <th>4</th>\n",
              "      <td>entertainment</td>\n",
              "    </tr>\n",
              "  </tbody>\n",
              "</table>\n",
              "</div><br><label><b>dtype:</b> object</label>"
            ]
          },
          "metadata": {},
          "execution_count": 32
        }
      ]
    },
    {
      "cell_type": "code",
      "source": [
        "y_train = pd.get_dummies(y_train).values\n",
        "y_test = pd.get_dummies(y_test).values"
      ],
      "metadata": {
        "id": "sMvbjFp2nNfn"
      },
      "execution_count": 33,
      "outputs": []
    },
    {
      "cell_type": "code",
      "source": [
        "y_train"
      ],
      "metadata": {
        "colab": {
          "base_uri": "https://localhost:8080/"
        },
        "id": "WwZP9LZdnfoN",
        "outputId": "98875674-4b04-4eed-b425-c976cb75e6b7"
      },
      "execution_count": 34,
      "outputs": [
        {
          "output_type": "execute_result",
          "data": {
            "text/plain": [
              "array([[False, False, False,  True, False],\n",
              "       [False, False, False, False,  True],\n",
              "       [False, False, False,  True, False],\n",
              "       ...,\n",
              "       [False, False,  True, False, False],\n",
              "       [False, False,  True, False, False],\n",
              "       [False,  True, False, False, False]])"
            ]
          },
          "metadata": {},
          "execution_count": 34
        }
      ]
    },
    {
      "cell_type": "code",
      "source": [
        "# convert to integer # tokenize # padd\n",
        "def tokenize_and_pad(input_text,max_len,tok):\n",
        "  input_text = tok.texts_to_sequences(input_text) #\n",
        "  print(input_text) # word converted to integer\n",
        "  input_text = pad_sequences(input_text, maxlen = max_len, padding='post')\n",
        "  print(input_text) # words converted to integer pluse padding\n",
        "  return input_text\n"
      ],
      "metadata": {
        "id": "G8BmxsMungab"
      },
      "execution_count": 35,
      "outputs": []
    },
    {
      "cell_type": "code",
      "source": [],
      "metadata": {
        "id": "G6U4dWJ3pMu8"
      },
      "execution_count": 35,
      "outputs": []
    },
    {
      "cell_type": "code",
      "source": [
        "text_tok = Tokenizer()\n",
        "text_tok.fit_on_texts(X_train)"
      ],
      "metadata": {
        "id": "8LyF6tZMo8XA"
      },
      "execution_count": 36,
      "outputs": []
    },
    {
      "cell_type": "code",
      "source": [
        "X_train_text=tokenize_and_pad(X_train,7,text_tok)"
      ],
      "metadata": {
        "colab": {
          "base_uri": "https://localhost:8080/"
        },
        "id": "u2nu_VUHciRI",
        "outputId": "d0e311c0-8e5a-4051-daee-66558270f0d3"
      },
      "execution_count": 37,
      "outputs": [
        {
          "output_type": "stream",
          "name": "stdout",
          "text": [
            "[[495, 779, 496, 358, 1390], [1391, 196, 497, 74], [780, 498, 17], [1392, 2, 781, 499, 359], [500, 93, 782, 783], [1, 156, 197, 8, 43, 141], [1393, 1394, 784, 501, 360], [1395, 1396, 10, 1397, 94], [502, 1398, 198, 503, 157], [142, 49, 199, 785, 50], [5, 266, 1399, 1400, 200], [1401, 50, 1402, 1403, 1404], [1405, 786, 8, 1406, 74], [1407, 1408, 40, 95], [1409, 267, 504, 505, 1410], [1411, 268, 96, 1412], [3, 506, 361, 787, 33], [1413, 10, 201, 362], [507, 158, 508, 363, 267], [269, 1414, 788, 1415], [75, 509, 202, 159, 789], [790, 364, 1416, 791], [510, 365, 160], [366, 511, 1417, 270], [1, 268, 792, 512], [367, 793, 794], [1418, 368, 57, 1419], [1420, 795, 796, 513, 271], [514, 112, 369, 797, 76], [1421, 1422, 203, 515], [1423, 1424, 1], [1, 798, 516, 1425, 1426], [517, 272, 1427, 367], [204, 518, 1428, 799], [800, 519, 801, 273], [44, 45, 274, 1429], [51, 1430, 275, 520, 1431], [1432, 802, 205], [276, 1433, 206, 1434, 1435], [277, 278, 803, 77, 804], [113, 52, 1436, 805], [156, 197, 1437, 1438, 76], [1, 806, 1439, 41, 53, 3], [207, 807, 114, 10, 4], [11, 370, 1440, 371], [808, 161, 809, 810, 811], [812, 813, 814, 115, 18], [815, 816, 817, 1441, 116], [34, 818, 279, 521], [1442, 819, 162, 4, 1443], [820, 372, 2, 1444, 821], [58, 1445, 208, 1], [373, 522, 65, 270], [113, 1446, 1447], [53, 523, 209, 1448], [1449, 1450, 57, 117], [163, 1451, 822, 1452], [1453, 524, 1454, 374], [375, 280, 1455, 1456, 203], [281, 54, 282], [1457, 1, 1458, 1459, 210], [211, 368, 282, 40, 57], [212, 525, 160, 526], [376, 97, 823, 44, 45, 1460], [43, 824, 213, 825, 826], [163, 1461, 42, 59, 827, 527], [29, 828, 214, 829, 1462], [58, 1463, 141], [205, 528, 1464, 1465, 529, 1466], [66, 1467, 283, 1468, 1469], [118, 17, 215, 5], [830, 98, 78], [530, 377, 831, 119], [1470, 832, 284, 1471], [1472, 833, 834, 1473], [1, 835, 1474, 1475], [836, 837, 838, 19, 531, 378], [1476, 216, 1477, 215], [164, 1478, 285, 8, 1, 365], [531, 532, 165, 1479, 1480, 839], [840, 533, 1481, 46], [379, 841, 1482, 534], [1483, 196, 1484, 74], [119, 535, 10, 831, 536], [1485, 16, 286, 842], [1486, 143, 29, 166], [120, 843, 1487, 9, 1488], [537, 74, 12, 538, 1489], [380, 539, 540, 99, 287], [117, 1490, 288, 1491], [1, 844, 144, 145, 1492], [214, 121, 845, 846], [5, 1493, 1494, 847], [33, 848, 34, 100, 122], [541, 381, 13, 382], [1495, 383, 123, 542], [849, 1496, 384, 7, 123, 93], [1497, 13, 6, 30, 1498], [3, 543, 7, 67, 544, 520], [850, 30, 119, 1499], [1500, 33, 52, 1501, 9, 289], [385, 545, 16, 167, 93], [60, 1502, 61, 375, 546], [1503, 124, 1504, 290, 1505], [547, 47, 124, 386, 162, 1506], [387, 19, 291, 75], [1507, 548, 42, 388, 851], [4, 101, 292, 549, 550, 24], [217, 146, 551, 1508, 1509], [31, 293, 852, 294, 47], [552, 168, 389, 32, 7, 501], [79, 125, 1510, 6, 166], [1, 1511, 1512, 41, 169], [47, 853, 1513, 117], [141, 115, 390, 80], [391, 553], [392, 1514, 393, 3, 371], [1515, 14, 854, 394, 170, 218], [554, 555, 539, 114], [113, 855, 395, 856], [857, 4, 12, 219], [556, 1516, 1517, 114], [1518, 396, 78, 858], [534, 397, 1519, 171, 295, 172], [207, 147, 1520, 1521], [31, 49, 859, 1522, 220, 839], [398, 557, 558, 296], [35, 1523, 2, 860, 1524], [559, 861, 146, 221, 1525], [1, 1526, 862, 1527, 297, 68], [25, 863, 1528, 864, 865], [2, 560, 561, 298, 299, 126], [115, 399, 562, 866, 127, 94], [867, 868, 173, 869, 222], [300, 563, 148, 870, 1529], [1530, 42, 871, 1531, 872], [873, 208, 55, 874], [1, 69, 223, 69, 224, 875], [1532, 30, 44, 45, 400], [56, 301, 876, 877, 50], [1533, 216, 564, 1534], [167, 1535, 1536, 1537], [167, 878, 174, 565], [273, 128, 123, 1538], [1539, 1540, 143, 879, 880], [401, 1541, 1542, 566, 20], [881, 66, 1543, 36, 15], [1544, 882, 883], [113, 855, 395, 856], [514, 112, 369, 797, 76], [225, 226, 76, 43, 402], [884, 885, 8, 174, 48], [886, 302, 567, 1545, 46], [167, 887, 59, 568, 4], [1546, 1547, 175, 1548], [167, 227, 174, 565], [1549, 403, 569, 570, 1550], [5, 42, 1551, 9, 888], [78, 274, 54, 32, 149], [889, 1552, 1553, 1554], [1555, 1556, 571, 228], [1557, 30, 890, 1558, 1559], [69, 223, 69, 572, 891, 892], [209, 893, 146, 894], [118, 1560, 573, 25], [895, 1561, 102, 176, 896], [897, 574, 898, 575], [176, 899, 129, 1562, 48], [303, 576, 130, 1563, 577], [1564, 229, 578, 220, 1565], [26, 143, 1566, 1567], [230, 900, 231], [287, 579, 1568], [1569, 49, 1570, 1571, 304], [398, 901, 177, 1572], [1573, 131, 1574, 902, 25], [34, 305, 1575, 231], [1576, 1577, 1578, 580], [1579, 40, 1580, 67, 141], [1, 20, 404, 405, 55, 381], [306, 161, 384, 1581, 1582, 43], [1583, 307, 903], [1584, 42, 386, 532, 37], [3, 1585, 1586, 904, 1587], [81, 14, 905, 376, 97, 406], [1588, 213, 175, 82], [906, 68, 8, 51, 1589], [907, 908, 909, 529, 99], [407, 408, 103, 1590], [1591, 229, 532, 1592], [581, 409, 1593, 38, 582, 4], [910, 583, 79, 150], [1594, 584, 1595, 585], [1596, 1597, 273, 586, 13], [911, 1598, 1599, 1600], [151, 232, 128, 1601, 912], [1602, 19, 178, 1603, 46], [33, 1604, 5, 901], [132, 1605, 410, 1606, 587], [83, 179, 588, 17], [375, 4, 21, 79, 54, 133], [913, 4, 298, 914, 133, 1607], [81, 1608, 915, 1609], [117, 916, 917, 18, 411], [918, 1610, 98, 2, 589], [1611, 161, 1612, 285, 1613], [919, 308, 36, 19, 1614], [17, 1615, 180, 1616], [920, 181, 1617, 26], [921, 826, 1618, 11, 24], [34, 922, 125, 1619], [7, 923, 1620, 79, 309], [26, 181, 924, 34, 104], [233, 783, 19, 151, 590], [1621, 55, 1622, 24, 152], [310, 925, 279, 1623, 217], [182, 227, 22, 1624, 1625], [358, 1626, 219, 4, 1627], [1628, 926, 1629, 311], [591, 312, 1630, 1631, 1632], [927, 928, 929, 44, 45], [590, 163, 1633, 412], [11, 230, 234, 134, 1634], [1635, 1636, 183, 1637], [592, 396, 930, 1638], [1639, 396, 1640, 593], [1641, 1642, 413], [1, 62, 1643, 6, 931, 1644], [2, 121, 932, 1645, 1646], [895, 158, 24, 105, 176], [1647, 1648, 220, 1649, 594], [35, 1650, 414, 313, 1651], [595, 22, 596, 21, 40], [597, 933, 26, 117], [934, 145, 1652, 404, 314], [1653, 135, 8, 935, 152], [286, 60, 23, 168, 37, 1654], [1655, 4, 577, 936], [543, 153, 68, 598, 1656], [1657, 571, 13, 1658], [599, 70, 2, 22, 106, 1659], [1660, 294, 1, 565, 937], [1661, 600, 1662, 938], [939, 940, 941, 84, 942, 943], [81, 601, 1663], [884, 415, 1664, 1665, 944], [33, 125, 602, 164, 235], [37, 416, 1666, 71, 945, 85], [1667, 315, 236, 1668], [152, 47, 4, 21, 914], [1669, 603, 1670, 316], [946, 35, 947, 60, 15], [948, 1671, 237, 1672], [146, 37, 949, 1673], [1674, 950, 1675, 286, 951], [604, 1676, 864, 1677, 1678], [1, 156, 317, 1679, 1680], [399, 1681, 1682, 318], [952, 130, 319, 417], [1683, 888, 605, 1], [920, 953, 164, 235], [954, 27, 1684], [606, 955, 237, 1685], [956, 1686, 957, 18], [418, 319, 4, 101, 1687, 958], [959, 314, 28, 238, 1], [414, 48, 239, 862, 162], [7, 1688, 960, 604], [607, 48, 1689, 184, 24], [608, 364, 1690, 609], [11, 230, 234, 134, 71, 542], [240, 62, 961, 1691, 896], [1692, 80, 1693, 1694], [1695, 359, 236, 1696], [962, 932, 1, 963, 1697], [320, 8, 37, 99], [610, 611, 1698, 611, 1699], [419, 2, 321, 964], [36, 965, 180, 966], [612, 613, 241, 7, 614, 378], [1700, 168, 27, 7, 967], [968, 1701, 29, 496], [31, 1702, 20, 1703], [1704, 19, 1705, 210], [420, 421, 54, 1706, 378], [283, 524, 935, 86, 274], [322, 969, 204, 967], [556, 122, 970, 11, 20], [422, 971, 323, 1707], [183, 423, 1708, 51], [1709, 1710, 1711, 567], [1712, 972, 420, 607, 1713, 242], [243, 136, 615, 201, 616], [113, 973, 144, 617], [87, 88, 59, 1714, 47], [244, 1715, 17], [399, 239, 324, 135, 122], [808, 161, 809, 810, 811], [974, 618, 975, 325], [976, 245, 1716, 977], [326, 115, 424, 1717, 978], [1718, 979, 1719, 619], [281, 23, 162, 3, 1720, 1721], [72, 620, 980, 1722], [1723, 1724, 1725, 393], [83, 621, 981, 622, 82], [1726, 567, 982, 96, 127], [983, 984, 985, 73], [107, 16, 425, 623, 327], [418, 319, 986, 1727, 1728], [26, 179, 33, 624], [426, 987, 401, 114, 1729], [988, 158, 29, 86, 378], [545, 1730, 307, 1731], [66, 328, 1732, 1733, 989], [149, 297, 990, 303, 246], [497, 503, 612, 613], [35, 625, 1734, 1735, 1736], [33, 42, 1737, 991, 992], [427, 1738, 246, 32, 282], [991, 61, 247, 162], [541, 405, 1739, 1740], [178, 1741, 1742, 1743], [626, 993, 994, 428, 627, 995], [31, 1744, 1745, 847], [1746, 125, 429, 1747, 27], [94, 329, 564, 10, 1, 996], [1748, 1749, 89, 430], [1750, 1751, 39, 216, 1752], [57, 579, 997, 628], [998, 1753, 78, 290, 915], [999, 1754, 31], [1755, 1756, 1757, 142], [406, 535, 146, 1000, 1001], [1002, 1758, 1003, 22, 1759], [295, 228, 1760, 7, 18], [629, 59, 137, 104], [138, 431, 282, 248, 1004], [249, 1761, 185, 1762], [217, 1763, 179, 186, 1764], [65, 108, 1765, 150], [51, 227, 2, 1766], [1005, 1006, 1006, 1007], [910, 57, 79], [250, 630, 8, 500], [114, 20, 1008, 1009], [1767, 1768, 631], [632, 1010, 1769, 231], [90, 1770, 251, 1771, 432], [1, 633, 433, 1772, 1011], [31, 5, 41, 2, 1012, 311], [1773, 168, 1774, 78], [150, 1775, 205], [1776, 8, 1, 1777, 28], [204, 327, 205], [330, 89, 1013, 35, 107], [59, 137, 1778, 1779, 1780, 247], [1781, 1782, 1783, 1014, 57], [1784, 1785, 102, 67, 634], [118, 1015, 412, 635], [252, 98, 1786, 1787], [1016, 1788, 10, 100, 272], [138, 987, 166, 154], [1789, 1017, 187, 27], [119, 1790, 61, 1791, 253], [3, 851, 1792, 620, 403], [148, 636, 1018, 300], [1793, 91, 1794, 96, 331], [186, 28, 1019, 1795], [1796, 23, 1797, 434, 17], [1798, 637, 1799, 1800], [65, 285, 1020, 283], [1801, 1802, 366, 1803], [1804, 784, 25, 1805], [5, 98, 108, 9], [3, 20, 435, 80, 1806], [56, 25, 1021, 638, 1022], [1023, 639, 1024, 67, 380], [1807, 417, 1025, 1808], [919, 1809, 30, 1810], [1811, 1026, 275, 209], [429, 495, 1027, 204, 14], [1812, 1028, 203, 51], [1813, 50, 51, 209], [1029, 1814, 1815, 56], [332, 254, 1030, 415, 1816], [94, 1031, 1032], [640, 641, 1, 1817], [200, 436, 1818], [642, 333, 302, 549, 1033, 1034], [1819, 1820, 1007, 73], [437, 8, 438], [613, 1821, 138, 95], [439, 1822, 28, 1823], [108, 1035, 643, 109], [334, 1824, 7, 126, 1036], [1037, 625, 1, 44, 45, 400], [79, 277, 119, 220, 1825, 1826], [5, 377, 1827, 1828, 117], [36, 81, 1829, 893], [644, 514, 335, 1830], [117, 1831, 11, 241, 1832], [366, 63, 1833, 188], [92, 1038, 1834, 228, 1039], [1835, 645, 1836, 1837], [31, 646, 110, 47, 647], [1838, 129, 391, 553], [144, 1040, 1839, 1041], [959, 314, 28, 238, 1], [101, 1840, 648, 271, 1035, 12], [95, 14, 1841, 1842], [1, 6, 1843, 92, 594], [1042, 440, 54, 336, 241], [1844, 1043, 997, 80], [2, 1845, 1846, 649, 43], [1, 44, 45, 16, 43, 94], [1847, 1848, 141, 1849], [507, 10, 96, 53], [1850, 1044, 650, 337], [2, 1045, 1046, 1047, 68, 1851], [148, 441, 1048, 651, 170], [1852, 372, 619, 652], [1049, 1853, 115, 1854], [983, 984, 985, 73], [1855, 189, 513], [312, 278, 1856, 653, 1857], [78, 274, 54, 32, 1858], [1859, 338, 1050, 526, 1860], [654, 96, 331, 1861], [310, 293, 9, 1862, 442], [1051, 1863, 1864, 1865, 1052], [598, 91, 1, 92, 77], [1866, 52, 147, 102, 1867], [1868, 1869, 1870, 1871], [1053, 655, 1, 44, 45], [1872, 656, 10, 1873, 1054, 46], [72, 1874, 1875, 1876, 46], [1055, 49, 190, 1056], [1057, 657, 1877, 443, 15], [1058, 637, 1878, 658], [659, 660, 1879, 1880], [1881, 339, 30, 113], [80, 119, 1882, 1883], [1884, 73, 1885, 1886], [530, 878, 661, 255], [3, 1887, 1888, 1889, 304], [1059, 21, 95, 1060], [191, 662, 8, 69, 223, 69, 572], [881, 444, 1061, 270], [36, 281, 30, 87], [75, 1062, 445, 340, 1063], [66, 1890, 1891, 1064, 1892], [5, 341, 342, 228, 256], [1037, 1065, 4, 126, 446], [115, 511, 210, 172], [1893, 16, 447, 1894, 24], [1066, 1895, 1896, 86], [33, 88, 9, 1897], [663, 9, 664], [665, 448, 666, 608, 121], [322, 30, 1898, 205], [1899, 50, 666, 184, 314, 131], [15, 53, 1900, 1901], [196, 222, 1902, 257], [211, 1903, 63, 449, 73], [150, 1904, 1067, 1068], [1905, 1906, 1907, 1908], [167, 585, 510, 178], [1909, 667, 1910, 99], [1911, 43, 1069], [640, 1070, 22, 106, 450], [3, 58, 52, 653, 1912], [1913, 1071, 1072, 7, 185], [840, 1914, 451, 452, 24], [1073, 38, 453, 632, 1010, 1074], [596, 111, 83, 610, 46], [1915, 1916, 1917, 1918], [343, 280, 136, 258, 600], [1919, 19, 1075, 55, 1920], [73, 966], [244, 344, 1076, 242, 1921], [1922, 1923, 1077, 1924, 1, 7], [1925, 119, 1926, 1078, 648, 1927], [1928, 454, 1929, 563, 23, 24], [668, 180, 1079, 1930, 1080], [430, 345, 1931, 7, 1081], [1082, 341, 1083, 395], [1932, 1933, 1934, 29], [259, 1084, 1935, 1936], [81, 454, 1085, 902], [150, 112, 335, 17, 1937, 1938], [911, 1939, 102, 1, 6, 153], [1940, 669, 1941, 32, 14], [1942, 455, 64, 1943, 1944], [57, 92, 77, 1086], [9, 15, 1945, 1946, 289], [1947, 30, 670, 154], [1948, 38, 64, 1949], [107, 1950, 425, 623, 327], [97, 1951, 1952, 1953], [1087, 1088, 1089, 12, 345], [1090, 236, 616, 1954, 1955], [1091, 1956, 1078, 346, 1957], [1092, 30, 1093, 671, 133], [287, 346, 1958, 25], [1959, 16, 672, 1960], [1961, 189, 1962, 1963, 90], [1964, 673, 1965, 32, 1094], [1966, 1967, 1968, 7, 402], [184, 1969, 226, 1970, 48], [917, 1971, 1972, 1095], [11, 861, 1973, 257], [120, 260, 442, 111, 127, 1974], [1045, 521, 1975, 1976], [60, 1977, 786, 1978], [1979, 1980, 123, 166], [456, 1096, 36, 1097], [210, 945, 1981, 526], [1982, 210, 325], [1098, 334, 1983, 89, 99], [836, 1984, 337, 674], [1099, 157, 1100, 1101], [109, 28, 404, 457, 1], [1985, 675, 41, 1986], [56, 1987, 1102, 50], [379, 539, 676, 670], [5, 110, 34, 103, 450], [540, 372, 1099, 276, 906], [324, 798, 1988, 212, 20], [525, 160, 226, 1, 28], [182, 1103, 362, 68, 197], [1104, 136, 1105, 46, 1106, 1989], [1107, 1990, 1991], [1992, 1993, 677, 1994], [1995, 458, 1996, 192], [1997, 459, 1998, 1020, 676], [1999, 130, 2000, 54, 20], [1108, 2001, 678], [2002, 261, 1109, 1110], [2003, 158, 29], [163, 2004, 31, 679, 680, 2005], [681, 1111, 2006], [2007, 21, 2008, 1112, 296], [172, 644, 236, 2009], [36, 2010, 457, 2011], [95, 86, 274, 657, 51], [1113, 2012, 139], [33, 2013, 3, 1114, 409], [2014, 1115, 111, 1116, 1117], [681, 2015, 2016, 170], [1, 441, 111, 137, 1118], [192, 61, 2017, 317], [322, 2018, 2019, 2020], [2021, 131, 2022, 360, 581], [460, 682, 251, 2023], [681, 403, 3, 390, 145], [2024, 70, 18, 683], [86, 899, 2025, 51, 584], [1119, 2026, 320, 684, 46], [502, 2027, 347, 3, 72, 187], [33, 8, 39, 2028, 461], [510, 2029, 71, 2030], [2031, 444, 29, 348], [462, 1120, 63, 2032, 2033], [2034, 383, 546], [320, 408, 1115, 53, 134], [31, 2035, 20, 122], [343, 136, 2036, 402, 2037], [2038, 128, 92, 1121], [1122, 253, 463, 251, 13, 49], [464, 454, 42, 13, 232, 49], [165, 2039, 165, 193, 38], [1123, 1124, 1125, 200, 1126], [332, 2040, 84, 436], [685, 2041, 7, 306, 587, 90], [2042, 2043, 2044, 2045], [626, 993, 994, 428, 627, 995], [102, 2046, 325], [954, 88, 1127, 2047, 47], [240, 669, 1002, 189, 865], [5, 2048, 2049, 208, 90], [968, 1128, 174, 960], [343, 178, 433, 1129], [2, 2050, 143, 257], [205, 2051], [1130, 125, 242, 686, 85], [1131, 273, 2052, 515], [1, 6, 131, 2053, 79, 4], [642, 333, 302, 549, 1033, 1034], [214, 121, 845, 846], [35, 238, 2054, 28], [1, 156, 197, 2055, 2056], [1132, 687, 688, 190], [658, 2057, 161, 77, 527], [1133, 2058, 105, 215], [6, 12, 2059, 2060, 2061], [2062, 2063, 2064, 689], [2065, 316, 2066, 2067], [665, 448, 666, 608, 121], [2068, 24, 1134, 1135, 2069, 441], [2070, 187, 201, 23], [576, 1136, 14, 1, 18], [1137, 1128, 794, 417], [2071, 21, 35, 2072, 393], [2073, 2074, 62, 61, 211, 2075], [321, 2076, 1138, 2077], [685, 2078, 2, 1139, 275], [1140, 432, 2079, 2080, 2081], [554, 1141, 157, 114], [20, 2082, 9, 105], [2083, 635, 463], [1142, 690, 459, 557, 558], [1143, 691, 2084, 188], [379, 2085, 2086, 2087], [194, 177, 71, 692, 693], [579, 1144, 2088, 2089], [1145, 1146, 67, 419], [525, 465, 1147, 1148], [466, 439, 248, 2090], [244, 121, 2, 1149], [58, 3, 405, 225], [678, 2091, 2092, 2093], [1, 268, 792, 512], [87, 2094, 1150, 323, 156], [80, 2095, 115], [467, 84, 1151, 694], [2096, 2097, 48, 10], [2098, 30, 2099, 1152, 2100], [3, 2101, 2102, 2103], [82, 2104, 2105, 546], [2106, 468, 446, 1153, 134], [999, 1154, 118], [2107, 469, 2108], [115, 633, 10, 1155, 256], [58, 16, 2109, 6], [1064, 1153, 695, 267], [1156, 667, 680, 2110, 2111], [470, 817, 438], [1157, 28, 423, 64, 141], [1158, 2112, 358, 2113, 1052, 4], [2114, 696, 38, 64, 2115, 2116], [2117, 8, 2118, 4], [33, 88, 34, 697, 50], [2119, 341, 1159, 54, 262], [2120, 299, 21, 250, 15], [2121, 4, 1160, 2122], [310, 925, 179, 2123], [2124, 413, 858], [24, 68, 132, 2125, 1161], [2126, 698, 1162, 2127, 410], [2128, 2129, 77, 270], [37, 699, 254, 462, 2130], [2131, 1054, 2132, 2133, 46], [5, 2134, 118, 17], [1163, 160, 129, 20], [320, 2135, 651, 17], [3, 6, 451, 2136, 1164, 471], [547, 2137, 268, 2138, 340], [5, 387, 9, 104], [34, 305, 279, 700, 1036], [2139, 469, 311, 701, 446], [702, 2140, 2, 2141, 1165], [469, 523, 2142, 1166], [183, 703, 2143, 65], [472, 42, 2144, 35, 2145], [81, 338, 1167, 214, 2146], [259, 2147, 2148, 248, 108], [2149, 1168, 349], [592, 704, 1027, 78, 501], [79, 2150, 2151, 2152], [204, 2153, 2154], [59, 137, 1169, 894], [2155, 2156, 639, 255, 471, 1141], [81, 128, 2157, 2158], [2159, 311, 2, 54, 582], [705, 2160, 953, 3, 243, 161], [233, 2161, 2162, 440, 1170, 136], [2163, 341, 1159, 54, 410], [1171, 338, 2164, 1172, 87], [857, 4, 12, 219], [37, 124, 132, 263, 99], [300, 258, 271, 706], [1173, 2165, 14, 2, 11, 2166], [1105, 16, 29, 153], [2167, 293, 2168, 2169], [33, 91, 2170, 2171, 47], [182, 1103, 362, 68, 197], [56, 687, 2172, 2173], [198, 2174, 191, 585], [1092, 707, 1093, 133], [927, 928, 929, 44, 45], [343, 178, 435, 2175], [3, 20, 605, 2176, 2177], [1174, 2178, 2, 2179, 180], [429, 2180, 1175, 1176], [708, 36, 2181, 2182, 2183], [5, 41, 66, 2184, 350, 709], [351, 473, 206, 4, 2185], [1177, 646, 125, 169], [87, 547, 443, 1178, 15], [1179, 258, 374, 5], [1180, 1061, 673, 156, 15], [26, 458, 559, 1181], [1, 303, 2186, 246, 1182, 1075], [37, 506, 39, 1, 1183], [576, 1136, 189, 2187, 18], [414, 2188, 2189, 2190], [5, 408, 103, 134, 2191], [974, 618, 975, 325], [2192, 91, 2193, 2194, 1184], [2195, 474, 474, 2196, 1185], [310, 258, 710, 711], [1186, 2197, 43, 2198], [2199, 2200, 44, 16, 99], [712, 523, 2201], [324, 135, 1187, 2202, 40], [330, 475, 1188, 159, 1], [2203, 344, 51, 1189, 289], [313, 713, 70, 1190, 1191, 292, 450], [2204, 2205, 2206, 2207], [2208, 2209, 1192], [330, 62, 447, 1193, 1194], [1, 1195, 245, 76, 1196], [352, 2210, 1, 324, 135], [2211, 2212, 65, 154], [714, 193, 2213, 2214, 536], [353, 475, 323, 2215, 2216], [1130, 2217, 2218, 2219], [118, 1197, 9, 108], [2220, 2221, 105], [354, 2222, 715, 246, 32], [295, 107, 18, 93, 10, 2223], [1198, 88, 1199, 683], [60, 140, 562, 1200, 2224, 152], [830, 98, 2225, 78], [2226, 790, 76, 2227, 56], [1201, 1202, 2228, 166], [716, 2229, 641, 112, 335], [266, 682, 612, 2230], [135, 1008, 208, 2, 80], [1, 23, 2231, 199], [867, 868, 173, 869, 222], [642, 2232, 717, 230, 1203], [142, 413, 288, 5], [63, 476, 2233, 73], [2234, 453, 2235], [1204, 433, 718, 706, 719], [175, 140, 1205, 74, 457], [2236, 1206, 275, 2237], [2238, 424, 2239, 2, 1139], [2240, 15, 323, 2241], [1207, 660, 112, 335, 2242], [2243, 11, 2244, 2245, 28], [1172, 399, 2246, 2247], [2248, 563, 256, 2249], [2250, 2251, 2252, 316], [2253, 2254, 111, 2255, 99], [2256, 1095, 130, 439, 28], [1208, 1209, 4, 347, 1, 44, 45], [186, 477, 245, 2, 43], [199, 2257, 1120, 63], [172, 23, 655, 2258, 2259], [1210, 1211, 25, 202, 159], [2260, 38, 38, 2261], [1208, 1209, 4, 347, 1, 44, 45], [2262, 564, 10, 207, 720, 338], [2263, 2264, 36, 108, 169], [122, 2265, 2266, 73], [74, 2267, 129, 94, 1041], [2268, 2269, 2270, 79, 309], [355, 2271, 2272, 2273], [437, 333, 209, 327], [2274, 2275, 2276, 364, 2277], [83, 254, 2278, 918, 2279], [159, 2280, 1212, 133], [2281, 1213, 1214, 551, 1, 2282], [1068, 93, 303, 2283], [2284, 641, 2285, 2286], [250, 98, 185, 721], [66, 2287, 2288, 2289, 519], [220, 1014, 7, 2290, 2291], [22, 696, 455, 38, 22, 106], [718, 170, 430, 342, 2292, 39], [2293, 527, 2294, 257], [94, 329, 140, 10, 2295, 40], [466, 1215, 67, 24], [11, 218, 2296, 2297, 1039], [114, 2298, 2299, 1009], [373, 27, 2300], [149, 980, 198, 2301], [48, 76, 2, 22, 106, 450], [722, 573, 1216, 465], [97, 1217, 560, 561, 1218, 2302], [2303, 45, 231], [379, 2304, 2305, 2306], [499, 23, 723, 344, 2307], [56, 301, 876, 877, 50], [1219, 2308, 1098, 78, 85], [1, 69, 223, 69, 224, 875], [303, 684, 2, 724, 1220], [2309, 252, 802, 1221], [300, 575, 148, 432], [276, 307, 216, 2310], [2311, 2312, 162, 2313, 478], [479, 2314, 1222, 652], [1223, 2315, 2316, 286, 2317, 2318], [7, 149, 1028, 1, 92, 6, 12], [225, 708, 232, 2319, 603], [2320, 2321, 116, 2322], [1224, 1225, 725, 4], [2323, 346, 307, 2324], [726, 727, 480, 2325, 2326], [264, 728, 210, 1226, 27], [13, 2327, 2328, 2329], [92, 62, 10, 729, 1227, 2330], [237, 1228, 1003, 183], [2331, 2332, 1229, 2333], [962, 2334, 13], [65, 703, 2335, 295, 228], [2336, 583, 2337, 2338], [37, 481, 1, 482, 105], [120, 260, 301, 2339, 2340], [2341, 2342, 628, 482], [2343, 2344, 345, 119, 2345], [533, 2346, 30, 595, 289], [2347, 728, 2348, 22, 696], [643, 318, 2349], [31, 646, 110, 47, 647], [51, 177, 2350, 14], [1137, 23, 367], [120, 260, 2351, 569, 2352, 2353], [2354, 2355, 23, 2356, 647], [1230, 189, 2357], [406, 535, 146, 1000, 1001], [29, 177, 71, 243, 17], [248, 2358, 138, 95, 24], [89, 208, 2359, 60, 1165], [2360, 235, 2361, 6, 2362], [51, 2363, 2364, 2365], [1150, 1231, 730, 2366], [5, 55, 3, 92, 77, 483], [479, 2367, 366, 2368], [2369, 1232, 281, 126], [1233, 1197, 1234, 166], [1235, 347, 484, 1236, 2370], [907, 908, 909, 529, 99], [34, 100, 131, 213, 2371], [1237, 731, 449, 211, 15], [439, 328, 2372, 60, 1238], [1142, 690, 459], [2373, 2374, 2375, 2376], [1239, 213, 451, 452, 732], [702, 2377, 43, 74, 566], [733, 27, 1240, 336, 309], [353, 734, 2378, 672], [1, 12, 480, 2379, 2380, 2381], [2382, 73, 2383, 1215], [233, 2384, 2385, 480, 2386], [87, 49, 356, 156, 121], [3, 2387, 2388, 2389, 2390], [3, 674, 1241, 337], [735, 2391, 568, 461], [2392, 401, 2393, 609], [332, 27, 2394], [2395, 146, 485, 736, 139], [2396, 20, 431, 737], [135, 8, 2, 152, 2397, 67], [5, 110, 199, 686, 49], [3, 781, 10, 2398, 222, 2399, 1242], [20, 2400, 9, 80], [9, 6, 468, 55, 5], [244, 1243, 2, 15], [2401, 2402, 2, 821], [2403, 95, 392, 2404, 126, 12], [33, 110, 2405, 85], [2406, 455, 1190, 1244], [430, 342, 16, 718, 170], [191, 662, 143, 2407, 536], [2408, 2409, 6, 220, 87], [842, 1245, 298, 18], [2410, 2411, 201, 23, 1019, 82], [2412, 18, 39, 788, 2413], [2414, 278, 291, 2415, 566], [2416, 671, 21, 1, 299, 133], [35, 13, 2417, 2418, 2419], [2420, 68, 2421, 2422, 4], [240, 368, 57, 367], [296, 630, 476, 53, 2423], [2424, 947, 2425, 2426, 101], [76, 3, 477, 1242], [2427, 130, 241, 2428, 1246], [434, 1247, 2429, 1248, 677, 1213], [1, 738, 2430, 739, 2431], [58, 740, 255, 2432], [2433, 1249, 2434, 1250], [2435, 467, 193, 131, 2436, 2437], [2438, 2439, 279, 390], [43, 80, 2440, 2441], [148, 723, 16, 2442], [2443, 388, 2444, 2445], [2446, 278, 129, 1051, 2447], [63, 1251, 2448, 1252, 203], [712, 1253, 2449], [2450, 695, 116, 2451], [486, 2452, 2453, 315], [1254, 40, 10, 43, 1255], [2454, 1256, 348, 16, 132], [324, 135, 8, 2455], [958, 2456, 2457, 674], [426, 88, 2, 2458, 2459], [354, 41, 1257, 394], [2460, 464, 75], [2461, 308, 154, 2462], [2463, 1223, 131, 140, 2464, 741], [2465, 629, 625, 60, 357], [26, 2466, 2467], [1258, 2468, 2, 1060, 2469], [2470, 1069, 2471], [702, 593, 2472, 2473, 1259], [75, 509, 202, 159, 789], [742, 36, 654, 1260, 1261], [2474, 1262, 500], [1263, 662, 124, 2, 312], [743, 238, 744, 2475], [104, 1264, 1265, 1266], [2476, 719, 62, 61, 89, 2477], [192, 47, 124, 1166, 2478], [326, 157, 507], [313, 713, 168, 151, 81, 82], [2479, 64, 64, 2480], [87, 1267, 725, 533], [259, 168, 247, 363, 706], [2481, 86, 2482, 389, 154], [540, 2483, 186, 28, 2484], [2485, 2486, 102, 27], [812, 813, 2487, 2488, 745], [669, 2489, 2490, 2491, 4], [244, 84, 1268, 157], [1, 1110, 746, 131, 38, 717, 109], [2492, 261, 747, 2493], [11, 604, 2494, 2495, 329, 100], [913, 62, 101, 418, 319, 2496], [2497, 41, 35, 183], [182, 748, 1269, 2498], [142, 345, 1270, 9, 290], [112, 2499, 2500, 2501], [743, 704, 652, 262], [2502, 474, 2503, 13], [337, 73, 359], [2504, 308, 487, 195, 356], [2505, 2506, 503, 733], [1271, 2507, 521, 17], [1180, 162, 386, 2508, 107], [2509, 2510, 2511, 2512], [1272, 70, 286, 553, 634], [2513, 2514, 2515, 581], [108, 2516, 1048], [2517, 2518, 2, 15], [2519, 130, 544, 1273], [419, 2, 321, 964], [2520, 2521, 421, 1274], [40, 2522, 749, 2523], [195, 82, 62, 737, 1275], [137, 112, 369, 1276, 13, 1277], [40, 944, 488, 2524, 2525], [2526, 444, 2527, 32, 296], [2528, 15, 528, 221, 38, 478, 1194], [86, 2529, 1278], [53, 8, 165, 193, 38, 224, 247], [726, 727, 1085, 39, 2530], [1279, 6, 12, 732, 1205, 2531], [330, 475, 1188, 159, 1], [11, 230, 234, 134, 71, 542], [471, 74, 129, 127, 1280, 116], [29, 62, 961, 948, 2532], [750, 157, 118, 27], [120, 260, 442, 388, 409], [177, 2533, 2534, 2535], [37, 458, 1129, 132], [182, 333, 1281, 2536], [1282, 2537, 916, 889, 2538], [1233, 102, 2539, 27], [460, 682, 1266], [733, 27, 1240, 336, 309], [1283, 1158, 136, 2540, 46], [552, 143, 2541, 520], [1284, 650, 339, 52, 1285], [456, 1096, 36, 1097], [175, 140, 2542, 55, 2543], [2544, 2545, 136, 2546, 7, 173], [2547, 751, 184], [489, 793, 1219, 799], [47, 2548, 30, 2549], [1239, 213, 451, 452, 732], [2550, 98, 631], [2551, 264, 397, 1286, 219], [2552, 2553, 66], [1259, 2554, 1, 537, 2555], [2556, 349, 34, 181], [2557, 738, 12, 1247], [155, 2558, 14, 903, 173], [3, 506, 361, 787, 55, 33], [22, 106, 139, 402, 599], [143, 2559, 2560], [56, 374, 11, 697, 377], [135, 2561, 1287, 43, 1288], [897, 574, 898, 575], [142, 102, 2562, 2563], [1284, 650, 339, 52, 1285], [1278, 2564, 139, 24], [9, 675, 103, 1289], [3, 2565, 2566], [1290, 196, 98, 89], [123, 431, 147, 2567], [132, 110, 1291, 860, 170], [1, 537, 74, 285, 2568], [1134, 64, 1135, 931, 752, 2569], [1157, 28, 423, 64, 141], [391, 149, 518, 1116, 185], [726, 727, 297, 1292, 827, 2570], [1269, 707, 2571, 173], [33, 926, 697, 2572], [3, 16, 68, 39, 2573], [2574, 307, 334, 2575], [1, 1058, 649, 742, 36], [2576, 2577, 2578, 2579], [1073, 2580, 157, 1249], [34, 922, 125, 2581, 57], [569, 2582, 7, 700, 314], [291, 2583, 538, 2584], [2585, 10, 443, 2586], [2587, 85, 2588, 132], [381, 145, 57, 1, 317], [2589, 1245, 97, 1, 582, 2590], [346, 990, 6, 397, 2591], [1, 490, 2592, 473, 956], [150, 955, 9, 2593], [138, 814, 93], [1293, 61, 2594], [2595, 42, 825, 123], [479, 16, 1294, 289], [174, 1117, 2596, 1273], [9, 1108, 2597], [472, 179, 35, 1295], [2598, 377, 2599], [837, 2600, 163, 2, 290], [127, 61, 214, 2601], [2602, 128, 2603, 589, 2604], [422, 91, 37, 170], [491, 2605, 103], [6, 2606, 2607, 1296, 2608, 3], [292, 1297, 2609, 2610, 1184], [2611, 2612, 14, 479, 18], [3, 278, 2613, 2614, 315], [2615, 2616, 735, 436], [467, 84, 1151, 694], [269, 1298, 736, 262], [1, 386, 1299, 578, 2617], [277, 284, 30, 753, 243, 207], [2618, 728, 2619, 2620], [541, 381, 13, 382], [2621, 2622, 148, 636], [2623, 32, 492, 2624, 194], [354, 606, 85, 2625, 18], [2626, 2627, 754, 2628], [182, 122, 1112, 2629, 2630], [137, 112, 369, 1276, 13, 1277], [2631, 1225, 31, 302, 2632], [387, 19, 291, 75], [250, 551, 13, 4, 224], [142, 413, 288, 5], [123, 16, 2, 418, 319, 671], [434, 946, 60, 15], [33, 5, 100, 272, 348], [614, 299, 2633, 2634, 548], [659, 169, 517, 2635], [1300, 2636, 2637, 19, 2638], [83, 88, 152, 221, 2639, 2640], [2641, 1178, 352, 109], [1, 755, 109, 1196], [2642, 1301, 2643, 432], [1302, 2644, 719, 104, 1238], [756, 42, 155, 97, 757], [2645, 18, 2646], [1303, 262, 187, 10, 304], [2647, 403, 29, 363, 267], [66, 2648, 190, 1089, 25], [35, 7, 2649, 114], [2650, 803, 2651, 75], [1, 218, 512, 2652, 2653], [1304, 731, 2654, 477, 1255], [3, 2655, 2656, 2657, 2658], [2659, 1287, 2660], [2661, 965, 2662, 340, 2663], [19, 705, 2664, 453, 633], [2665, 1305, 2666, 265], [486, 2667, 48, 483], [1113, 522, 1306], [437, 8, 438], [2668, 1307, 89, 758, 127], [5, 261, 1074, 2, 161, 77], [2669, 40, 447, 2670], [495, 71, 1308, 86, 2671, 759], [146, 2672, 2673, 9], [1309, 351, 2674, 2675, 2676], [169, 1310, 2677], [462, 52, 2678, 949], [2679, 2680, 8, 2681, 48], [66, 938, 2682, 637], [725, 97, 2683, 822], [65, 171, 2684, 760], [17, 2685, 69, 223, 69, 360], [1311, 284, 84, 1312, 2686], [761, 145, 42, 1313, 188], [26, 124, 2687, 350, 709], [1023, 639, 1024, 67, 380], [2688, 751, 2689, 154], [259, 2690, 2691, 361], [2692, 88, 2693, 2694], [152, 221, 996, 10, 2695], [373, 1314, 41, 508], [2696, 649, 653, 43], [2697, 125, 1012, 2698], [488, 2699, 751, 64, 2700, 15], [352, 42, 147, 6, 456], [310, 258, 710, 711], [3, 23, 71, 2701, 1315, 17], [2702, 924, 240, 2703], [678, 645, 90, 242, 2704], [75, 1062, 445, 340, 1063], [233, 357, 1316, 982, 126, 111], [283, 2705, 53, 1317, 16], [427, 2706, 246, 32, 14], [175, 140, 524, 538, 239], [2707, 2708, 12, 356], [1318, 143, 2709, 2710, 181], [2711, 1319, 820], [2712, 349, 23, 11, 2713], [3, 2714, 147, 4, 589], [92, 677, 15, 936], [332, 107, 2715, 2716], [11, 35, 1295, 53, 62, 2717], [56, 2718, 741, 694, 1313], [969, 630, 2719, 53, 394], [1071, 440, 2, 72, 1220], [2720, 2721, 21, 19, 133], [2722, 61, 59, 762, 763], [1252, 1053, 714, 2723, 2724], [163, 182, 2725, 2726], [1310, 73, 232, 363], [58, 740, 255, 1320], [266, 9, 412, 2727], [427, 2728, 32, 194], [29, 703, 1228, 123], [2729, 41, 2730, 2731], [2732, 17, 1321, 1286, 302], [5, 41, 288, 664, 1305], [2733, 2734, 491, 2735, 25], [2736, 2737, 39, 116], [83, 179, 588, 17], [1025, 30, 72, 721, 2738], [142, 387, 9, 1322], [2739, 145, 2740, 242, 362], [2741, 2742, 1323, 1324], [1324, 328, 2743, 63], [2744, 171, 2745], [764, 765, 2746, 191, 1182], [1263, 203, 2747, 103, 2748], [407, 301, 663, 25], [765, 139, 487, 195, 356], [252, 206, 766], [606, 102, 32, 634], [2749, 4, 2750, 2751], [325, 2752, 128, 54], [147, 3, 2753, 13, 6], [3, 52, 2754, 716, 2755, 411], [385, 545, 16, 167, 93], [2756, 121, 2757, 188], [22, 106, 2758, 32, 14], [2759, 2760, 96, 331], [1325, 1325, 12, 16, 1, 6], [1326, 950, 2761, 2762], [2763, 746, 665, 2764], [2765, 20, 2766], [2767, 412, 58], [1327, 2768, 425, 2769, 2770], [40, 1328, 749, 7, 107], [883, 2771, 3, 1329], [26, 458, 1175, 272], [250, 104, 8, 1330], [65, 2772, 424, 434], [757, 52, 2773, 805], [2774, 354, 70, 744, 754], [1331, 39, 249, 72], [2775, 23, 102, 116], [5, 835, 2776, 90, 342], [72, 620, 2777, 2778, 180], [1107, 333, 194, 38, 455], [1057, 1187, 2779, 2780], [186, 2781, 63, 176], [517, 2782, 721, 767], [148, 636, 1038, 316, 2783], [1133, 705, 615, 370], [2784, 2785, 516, 465], [1332, 14, 768, 352, 18], [1333, 84, 1334, 19, 89], [1272, 690, 2786], [266, 559, 1181], [240, 2787, 496, 2788], [230, 900, 231], [2, 2789, 2790, 7, 2791, 90], [37, 482, 509, 1, 2792], [31, 2793, 2794, 228, 872], [1304, 49, 11, 688], [1005, 38, 64, 1335], [6, 2795, 779, 2796, 12], [2797, 18, 2798, 19, 1299], [1241, 720, 2799, 13, 91], [1336, 2800, 2801, 6], [1, 6, 397, 2802, 383, 2803], [939, 940, 941, 84, 942, 943], [248, 2804, 61, 879, 880, 108], [2805, 49, 2806, 317, 105], [2, 1176, 2807, 263, 371], [389, 1337, 2808, 2809], [2810, 489, 98, 247, 2811], [264, 231, 570, 2812], [886, 2813, 2814, 2815], [676, 238, 670, 419], [2816, 2817, 79, 2818, 19], [2819, 229, 94, 116, 239], [1, 23, 2820, 1338, 2821], [83, 70, 1230, 2822, 588], [1204, 2823, 105], [2824, 305, 2825, 2826, 615], [249, 21, 7, 2827, 2828], [2829, 195, 8, 2830], [212, 351, 52, 2831, 67, 7, 267], [2832, 2833, 828, 250, 101], [207, 268, 263, 385, 2834], [1339, 2835, 355, 2836], [2837, 80, 2838, 1013, 2839], [35, 1171, 124, 672, 15], [769, 53, 2840, 679, 2841], [1340, 213, 2842, 1341], [269, 55, 2843, 715], [2844, 41, 329, 1339, 76], [1131, 2845, 2846, 2847, 2848], [11, 1297, 2849, 216, 873], [1342, 770, 70, 67, 153], [56, 272, 251, 2850, 763], [56, 425, 1343, 139, 2851], [264, 229, 853, 39, 2852], [2853, 2854, 2855, 2856], [2857, 1144, 70, 2858, 1344], [2859, 485, 2860, 2861, 2862], [780, 2, 656], [2863, 2864, 39, 82], [658, 2865, 254, 83, 621], [2866, 1143, 2867, 67, 187], [530, 1232, 474, 661], [36, 2868, 838, 2, 2869], [2870, 96, 331, 12], [998, 22, 215], [1, 2871, 2872, 2873, 2874], [2875, 158, 2876, 2877], [211, 2878, 2879, 2880, 449, 2881], [2882, 596, 158, 2883, 2884], [1345, 1346, 2, 1347, 193], [1163, 160, 129, 20], [1081, 481, 2885, 85], [1122, 253, 463, 251, 13, 49], [181, 179, 2886, 1340], [2887, 485, 30, 550, 2888], [489, 651, 218, 345], [34, 305, 748, 560, 436], [233, 2889, 2890, 2891, 484], [1333, 84, 1334, 19, 89], [2892, 1193, 2893, 447, 109], [977, 41, 151, 172, 763], [306, 101, 480, 280, 2894], [292, 91, 750, 34, 1348], [34, 2895, 2896, 2897, 46], [2898, 2899, 2900, 2901, 2902], [26, 2903, 624, 2904, 2905], [2906, 24, 2907, 550], [640, 1160, 212, 20], [2908, 745, 583, 2909, 698], [2910, 34, 638, 1022], [120, 260, 301, 9, 2911], [2912, 65, 171, 29, 467], [6, 73, 2913, 1336], [2914, 453, 2915, 747, 194], [2916, 2917, 241, 486, 2918], [1311, 849, 48, 2919, 445], [2920, 1254, 63, 2921], [1101, 1349, 2922, 2923], [874, 408, 624, 104], [277, 2924, 77, 771, 318], [934, 675, 2925, 55, 320], [2926, 2927, 9, 287], [1, 20, 772, 1350, 2928, 28], [1351, 773, 714, 764, 2929], [597, 933, 26, 117], [5, 2930, 1, 2931], [94, 1031, 1032], [2932, 26, 9, 1138], [95, 2933, 96, 331], [2934, 854, 245, 2935, 66], [1352, 100, 76, 2936], [2937, 673, 499, 23, 14], [466, 1026, 2938, 209], [904, 774, 129, 597], [2939, 2940, 50, 832], [2941, 136, 227, 2942, 1192], [2943, 255, 281], [19, 22, 185], [3, 153, 2944, 2945, 191], [2946, 2947, 22, 106, 2948], [1114, 1353, 1167, 2949], [2950, 50, 1352, 100], [280, 200, 1354, 2951, 46, 1106, 2952], [195, 82, 62, 737, 1275], [1029, 131, 1349, 1289], [1, 47, 317, 562, 2953], [51, 14, 2954], [2955, 254, 191, 2956], [388, 2957, 2958], [2959, 261, 2960, 717, 2961, 1315], [103, 1355, 14, 190, 730], [214, 2962, 2963, 2964, 12], [2965, 8, 490], [337, 2966, 2967, 4], [2968, 2969, 2970, 46, 2971], [427, 383, 773, 304], [2972, 65, 14, 1356, 493], [1055, 49, 190, 1056], [491, 739, 1357, 11, 234, 134], [31, 730, 26, 2973], [1224, 748, 2974, 12, 2975], [1358, 401, 10, 2976, 2977], [2978, 979, 1335, 619], [1200, 2979, 1359, 1088, 284, 12], [180, 912, 55, 2980], [5, 55, 735, 2981], [2982, 1314, 270, 65], [3, 2983, 487, 19, 2984], [2985, 129, 2986, 1360], [2987, 2988, 14, 2989, 105], [36, 680, 229, 306, 1312], [374, 2990, 192, 411, 2991], [224, 116, 2992], [2993, 483, 3, 587, 937], [1, 643, 622], [1173, 35, 890, 326, 1361], [2994, 2995, 2996, 25, 153, 2997], [190, 361, 1355, 472], [79, 2998, 2999, 2, 473], [249, 502, 189, 198, 767], [3000, 1191, 426, 3001, 15], [466, 3002, 494, 3003], [548, 3004, 2, 4, 3005], [56, 1047, 68, 336, 722], [1, 3006, 18, 3007], [3008, 93, 484, 101, 580], [199, 686, 85, 516, 2, 17], [3009, 573, 1216, 448], [3010, 184, 709, 226, 3011], [69, 223, 69, 572, 891, 892], [1362, 1363, 775, 25, 689], [2, 339, 21, 13, 3012], [1342, 755, 202, 1234, 770], [212, 3013, 655, 176, 1364], [531, 3014, 591, 312, 3015], [1365, 601, 1, 3016, 126], [1177, 279, 37, 48], [31, 3017, 1077, 1366, 1262], [59, 103, 25, 71, 111, 394], [742, 36, 654, 1260, 1261], [1331, 39, 249, 72], [3018, 3019, 105], [3020, 3021, 1356, 493, 3022], [353, 1337, 482, 688], [3023, 326, 497, 24], [147, 3024, 3025, 3026, 3027, 355], [37, 416, 1367, 3028, 1274], [48, 10, 3029, 201, 1341], [5, 848, 715, 85, 256], [26, 3030, 1246, 17], [3031, 3032, 114, 44, 45], [3033, 110, 78, 3034], [978, 3035, 3036, 3037], [449, 3038, 3039, 82, 1361], [165, 193, 38, 3040, 198, 18], [3041, 3042, 3043, 6, 3044], [398, 41, 1257, 296], [3045, 153, 70, 72, 410], [259, 1111, 326], [407, 50, 1021, 3046, 3047], [34, 305, 88, 160, 25], [92, 3048, 729, 3049, 28], [256, 91, 600, 160], [1156, 823, 334, 336, 309], [3050, 498, 64, 3051, 1011], [3052, 158, 3053, 3054], [3055, 112, 335, 716, 3056, 253], [3057, 475, 1, 351, 23], [108, 3058, 253, 3059, 3060], [834, 3061, 139, 1, 428, 627], [1, 1206, 782, 338, 758, 127], [155, 265, 776, 8, 1, 294], [292, 91, 750, 34, 1348], [844, 3062, 3063, 141], [3064, 19, 3065, 3066, 3067], [3068, 299, 21, 3069, 133], [295, 1368, 1358, 328, 3070], [3, 3071, 3072, 663, 3073], [196, 222, 464, 257], [561, 178, 1243, 1280, 15], [484, 3074, 98, 18], [1369, 3075, 592, 3076], [59, 3077, 3078, 3079, 355, 3080], [1329, 50, 1370, 66], [217, 3081, 26, 11, 90], [3082, 3083, 343, 370], [3, 13, 253, 1189, 6, 1365], [204, 3084, 32, 758, 127], [218, 3085, 3086, 568, 461], [1353, 1072, 513, 18], [3087, 3088, 777, 3089, 3090], [353, 477, 245, 8, 2, 152], [3091, 699, 261, 494, 3092], [3093, 3094, 1359, 3095], [1371, 769, 3096, 169], [1372, 1373, 3097, 54, 32, 24], [376, 580, 1374, 440, 1375], [7, 56, 120, 3098, 1050, 3099], [1283, 19, 1374, 698], [470, 3100, 736, 318], [3101, 12, 3102, 101], [3103, 1080, 764, 75], [3104, 298, 1, 44, 45, 126], [3105, 3106, 3107, 3108], [437, 3109, 543, 494], [1376, 952, 21, 3110, 262], [488, 3111, 8, 632, 80, 94], [1326, 130, 40, 3112, 43], [3113, 3114, 483, 1288], [103, 1377, 41, 175, 3115], [35, 3116, 202, 3117], [769, 1231, 26, 1364], [1378, 3118, 3119, 656], [109, 28, 404, 457, 1], [1, 3120, 774, 635, 201], [992, 122, 3121, 3122], [3, 25, 1267, 103, 1377], [1376, 614, 3123, 3124, 46], [365, 3125, 1290, 3126], [3127, 14, 59, 192, 4], [87, 462, 3128, 63], [3129, 3130, 15, 3131], [3132, 3133, 3134, 3135], [743, 21, 3136, 1162, 262], [3137, 48, 3138, 759, 313], [330, 522, 13], [54, 290, 7, 151, 778], [629, 59, 137, 104], [3139, 215, 93, 3140, 772], [138, 431, 282, 248, 1004], [3141, 1218, 256, 1379], [3142, 3143, 433, 1, 3144, 3145], [3146, 1380, 1248, 443, 15], [6, 468, 371, 711, 1301], [33, 125, 602, 164, 235], [332, 3147, 3148, 40], [240, 1146, 3149, 14], [3150, 1351, 3151, 3152, 85], [151, 359, 392, 3153, 617], [4, 17, 224, 3154], [244, 3155, 1281, 3156], [3157, 605, 700, 263], [1, 7, 3158, 3159], [139, 3160, 921, 493, 1203], [51, 236, 3161, 638, 3162], [1169, 1084, 137, 1330], [3163, 3164, 41, 3165, 492], [5, 227, 276, 11, 63, 15], [155, 265, 707, 236, 3166], [1155, 117, 777, 216, 368], [123, 171, 51, 760], [233, 357, 1316, 435, 3167, 350], [1186, 3168, 77, 771, 318], [1104, 3169, 768, 12], [720, 23, 62, 3170, 1030, 478, 109], [3171, 189, 4, 6, 3172], [1221, 3173, 132, 17], [3, 1195, 623, 476, 452, 3174], [1345, 1346, 2, 1347, 193], [1368, 95, 508], [37, 1296, 415, 132, 24], [422, 3175, 130, 36, 463], [29, 85, 701, 829, 767], [334, 819, 126, 1152, 3176], [1318, 1381, 3177, 807], [3178, 684, 1350, 754], [486, 3179, 3180, 3181], [113, 70, 59, 762, 188], [3182, 3183, 804, 618], [36, 19, 1382, 3184, 3185], [3186, 12, 3187, 1, 3188], [276, 15, 62, 128, 54, 3189], [738, 3190, 885, 594], [144, 57, 3191, 3192], [142, 574, 3193, 3194], [3195, 3196, 3197], [3198, 1383, 1303, 348], [81, 14, 905, 376, 97, 406], [3199, 3200, 882], [225, 708, 232, 3201, 603], [75, 95, 3202, 3203], [3204, 90, 664, 5], [113, 70, 59, 762, 188], [384, 149, 601, 306, 3205, 3206], [3207, 206, 766], [280, 426, 178, 52, 590, 1366], [3208, 165, 269, 3209, 1369], [3210, 515, 1040, 3211], [3212, 1383, 246, 32, 492], [1362, 1363, 775, 25, 689], [264, 481, 1, 44, 45, 446], [3213, 86, 755, 65, 3214], [1079, 84, 151, 796, 328], [490, 39, 249, 185], [1082, 341, 1083, 395], [472, 3215, 3216, 382], [465, 1147, 1148], [175, 140, 12, 3217, 3218], [211, 3219, 68, 555, 74, 239], [1210, 1211, 25, 202, 159], [1338, 1170, 3220, 1, 23], [1384, 3221, 121, 3222], [120, 260, 1161, 47, 288, 197], [255, 1371, 420, 468], [668, 38, 972, 257, 1076], [1, 124, 2, 1291, 3223, 393], [3224, 55, 115, 14, 745], [3225, 271, 32, 785, 1183], [661, 1250, 1086, 3226], [3227, 42, 1294, 252], [97, 1217, 595, 22, 38], [1258, 3228, 3229, 3230], [3231, 476, 164, 370, 411], [1302, 424, 445, 3232], [1154, 118, 3233], [3234, 645, 2, 87, 951], [3235, 60, 140, 39, 357], [3236, 528, 316, 3237], [3238, 3239, 41, 111, 3240], [749, 3241, 261, 747, 3242], [2, 1185, 1385, 96, 3243], [252, 396, 3244, 986, 1094], [407, 71, 164, 235, 3245], [47, 16, 3246, 9], [3247, 3248, 1360, 741], [1354, 3249, 3250, 46, 3251], [113, 973, 144, 617], [761, 687, 3252, 3253, 180], [1, 554, 555, 28, 3254], [3255, 122, 570, 275], [313, 713, 168, 151, 81, 82], [3, 390, 372, 2, 3256, 15], [26, 50, 3257, 297, 76], [58, 3, 3258, 3259], [3260, 3261, 72, 14], [6, 49, 3262, 3263], [3264, 225, 504, 505, 731, 3265], [3266, 795, 444, 3267, 1237], [771, 311, 3268, 3269], [60, 140, 239, 39, 3270], [459, 273, 1306], [602, 3271, 297, 3272, 3273], [237, 171, 183, 760], [759, 1256, 1059, 3274, 14], [111, 571, 196, 222, 464], [3275, 3276, 3277, 3278], [107, 3279, 423, 64, 245, 1320], [58, 30, 6, 1386], [241, 3280, 415, 16, 3281], [770, 229, 3282, 778], [108, 263, 321, 801], [470, 734, 438, 187], [1091, 22, 124, 3283, 128], [3284, 3285, 3286], [491, 739, 1357, 11, 234, 134], [360, 3287, 72, 104], [3288, 591, 312, 3289, 3290], [1387, 84, 251, 13, 232, 49], [3291, 25, 3292, 417], [3293, 218, 1109, 3294], [144, 3295, 420, 339, 3296], [470, 3297, 773, 701, 304], [1307, 3298, 83], [3299, 91, 5, 31, 3300], [3301, 226, 3302, 107, 1046], [552, 227, 3303, 389, 957], [765, 139, 487, 195, 356], [1174, 138], [3304, 3305, 355], [1235, 347, 3306, 577], [398, 63, 2, 177], [107, 609, 3307, 1121], [5, 3308, 3309, 349, 3310], [3311, 4, 298, 219], [3312, 3313, 586, 13], [3314, 48, 2, 60, 616], [815, 816, 887, 192, 154], [17, 3315, 1388, 1375, 25], [746, 1327, 791, 1381], [1236, 203, 3316, 3317, 3318], [3319, 3320, 176, 24], [185, 3321, 3322, 3323], [3324, 3325, 86, 3326], [354, 841, 494, 712], [988, 21, 29, 584, 593], [3327, 1385, 1017, 1321, 187], [800, 519, 308, 1343, 3328], [26, 722, 122, 3329], [183, 1251, 3330, 29], [1042, 435, 3331, 3332, 3333], [3334, 91, 3335, 3336], [1244, 1323, 3337, 342], [247, 392, 3338, 1332], [135, 1322, 3339, 850], [138, 21, 3340, 7, 6, 3341], [3342, 171, 3343, 3344], [26, 71, 1264, 1265, 693], [83, 610, 611, 52, 3345, 3346], [1145, 42, 264, 237], [3347, 1379, 11, 234, 134], [1090, 3348, 16, 100, 3349], [1198, 88, 1199, 683], [3350, 344, 53, 752], [58, 3, 405, 225], [3351, 101, 498, 186, 3352], [3353, 3354, 12, 52, 930, 1226], [31, 3355, 3356], [3357, 3358, 2, 37, 699], [384, 485, 3359, 18, 12], [3360, 344, 3361, 22, 106, 492], [429, 734, 174, 27], [1293, 61, 1222, 1279], [1270, 90, 348, 100, 3362], [3363, 3364, 1372, 1373], [31, 293, 852, 294, 47], [3365, 3366, 556], [489, 628, 3367, 3368], [358, 3369, 16, 27], [32, 3370, 22, 106, 1344, 3371], [352, 42, 147, 6, 456], [3372, 3373, 154, 3374], [3375, 3376, 1043, 29], [259, 3377, 744, 166], [172, 1214, 61, 668, 38, 3378, 3379], [155, 265, 3380, 776, 8, 1], [1049, 3381, 400, 77, 149], [1140, 17, 3382, 3383, 626, 1087], [3384, 21, 7, 3385, 768, 133], [1066, 206, 766], [96, 3386, 3387, 557, 558], [3388, 691, 237, 27], [2, 217, 1016, 710], [1271, 1317, 283, 3389, 3390], [3391, 3392, 3393, 3394, 1292], [3395, 3396, 27, 263], [1253, 269, 110, 631], [93, 3, 81, 454], [3397, 3398, 3399, 3400], [217, 818, 1018], [3401, 3402, 191, 3403], [149, 3404, 198, 963, 3405], [322, 3406, 3407, 57], [1387, 323, 58, 3408], [3409, 110, 866, 685, 181, 3410], [3411, 48, 10, 116, 57], [3412, 3413, 145, 3414], [428, 3415, 21, 3416, 173], [92, 221, 729, 1227, 64, 3417], [155, 265, 776, 8, 1, 294], [1389, 110, 3418, 3419, 461], [3420, 1149, 385, 421, 3421], [460, 870, 3422, 53], [194, 177, 71, 692, 693], [195, 28, 740, 3423, 287], [833, 3424, 923, 3425, 3426], [3427, 3428, 3429, 3430], [488, 3431, 130, 40, 1328], [1388, 3432, 1367, 3433, 478], [83, 621, 981, 622, 82], [3434, 8, 3435, 3436], [165, 1378, 75, 3437, 3438], [534, 27, 1201, 1202], [3439, 416, 481, 3440, 3441], [1212, 3442, 1119, 1380, 136], [150, 78, 3443], [422, 971, 16, 3444, 176], [3445, 1100, 353], [3446, 667, 3447], [322, 3448, 271, 511], [391, 3449, 52, 586, 13], [5, 31, 1370, 66], [138, 10, 3450, 86], [11, 704, 329, 3451, 77], [89, 208, 2, 321, 293], [1123, 1124, 1125, 200, 1126], [35, 238, 3452, 28], [87, 308, 3453, 3454], [3455, 27, 7], [243, 350, 357, 3456, 3457, 416, 3458], [346, 1384, 3459, 3460, 55, 200], [3461, 21, 598, 4, 72], [761, 3462, 1309, 3463, 364], [3464, 1319, 127, 442, 68], [976, 3465, 3466, 859, 3467], [3468, 679, 3469, 39, 100, 3470], [3471, 4, 219, 1298], [460, 22, 3472, 3473], [58, 1382, 6, 1386], [607, 3474, 254, 578, 24], [3475, 3476, 184, 3477], [3478, 1065, 67, 3479], [1164, 772, 863, 3480, 3481], [150, 226, 3482, 3483, 350], [118, 88, 1102, 50], [215, 192, 3484, 5, 1015, 11], [871, 493, 3485, 3486], [1, 441, 111, 137, 1118], [471, 23, 3487, 40, 285, 3488], [128, 3489, 3490, 74], [3491, 691, 1308, 659, 53], [1179, 657, 380, 194], [315, 777, 13, 144], [300, 774, 148, 1067, 723], [3492, 27, 1300, 3493], [3494, 1282, 3495, 599, 22, 106], [778, 3496, 2, 155, 265], [351, 473, 21, 3497, 173], [1229, 90, 104, 188, 518], [724, 172, 824, 695, 3498], [3499, 648, 61, 164, 235], [1070, 753, 3500], [3501, 3502, 3, 9], [414, 258, 6, 119, 382], [3503, 4, 421, 1, 44, 45], [365, 291, 212, 20], [3504, 3505, 469, 3506], [1127, 3507, 3508, 3509], [756, 42, 155, 97, 757], [1389, 3510, 806, 3511], [1207, 660, 3512, 724, 99], [3513, 39, 3514, 340], [970, 20, 8, 186, 109], [109, 89, 3515, 184], [3516, 1132, 70, 190, 153], [3517, 1044, 199, 242, 221], [3518, 206, 3519, 544, 3520], [1268, 327, 63, 3521], [163, 3522, 3523, 3524], [373, 400, 29], [375, 60, 775, 3525, 37], [277, 284, 30, 753, 243, 207], [3526, 3527, 692, 752], [756, 3528, 3529, 169], [266, 1168, 349], [174, 3530, 10, 3531, 40], [644, 3532, 504, 505, 144], [252, 989, 490], [3533, 3534, 3535, 409, 105], [120, 843, 2, 9, 3536, 145], [56, 3537, 448, 3538, 181], [315, 4, 3539, 3540, 3541]]\n",
            "[[ 495  779  496 ... 1390    0    0]\n",
            " [1391  196  497 ...    0    0    0]\n",
            " [ 780  498   17 ...    0    0    0]\n",
            " ...\n",
            " [ 120  843    2 ... 3536  145    0]\n",
            " [  56 3537  448 ...  181    0    0]\n",
            " [ 315    4 3539 ... 3541    0    0]]\n"
          ]
        }
      ]
    },
    {
      "cell_type": "code",
      "source": [
        "X_train"
      ],
      "metadata": {
        "colab": {
          "base_uri": "https://localhost:8080/",
          "height": 458
        },
        "id": "4_nnHwD5drBw",
        "outputId": "f5dfca6d-145f-4ca4-a693-e796d567b749"
      },
      "execution_count": 38,
      "outputs": [
        {
          "output_type": "execute_result",
          "data": {
            "text/plain": [
              "0          cole refuses blame van persie\n",
              "1       slimmer playstation triple sales\n",
              "2                      bellamy fined row\n",
              "3           finding new homes old phones\n",
              "4          sundance honour foreign films\n",
              "                      ...               \n",
              "1775            robinson answers critics\n",
              "1776         mallon wades ne vote battle\n",
              "1777     lib dems' new election pr chief\n",
              "1778       tories reject rethink axed mp\n",
              "1779       women film 'are earning less'\n",
              "Name: title, Length: 1780, dtype: object"
            ],
            "text/html": [
              "<div>\n",
              "<style scoped>\n",
              "    .dataframe tbody tr th:only-of-type {\n",
              "        vertical-align: middle;\n",
              "    }\n",
              "\n",
              "    .dataframe tbody tr th {\n",
              "        vertical-align: top;\n",
              "    }\n",
              "\n",
              "    .dataframe thead th {\n",
              "        text-align: right;\n",
              "    }\n",
              "</style>\n",
              "<table border=\"1\" class=\"dataframe\">\n",
              "  <thead>\n",
              "    <tr style=\"text-align: right;\">\n",
              "      <th></th>\n",
              "      <th>title</th>\n",
              "    </tr>\n",
              "  </thead>\n",
              "  <tbody>\n",
              "    <tr>\n",
              "      <th>0</th>\n",
              "      <td>cole refuses blame van persie</td>\n",
              "    </tr>\n",
              "    <tr>\n",
              "      <th>1</th>\n",
              "      <td>slimmer playstation triple sales</td>\n",
              "    </tr>\n",
              "    <tr>\n",
              "      <th>2</th>\n",
              "      <td>bellamy fined row</td>\n",
              "    </tr>\n",
              "    <tr>\n",
              "      <th>3</th>\n",
              "      <td>finding new homes old phones</td>\n",
              "    </tr>\n",
              "    <tr>\n",
              "      <th>4</th>\n",
              "      <td>sundance honour foreign films</td>\n",
              "    </tr>\n",
              "    <tr>\n",
              "      <th>...</th>\n",
              "      <td>...</td>\n",
              "    </tr>\n",
              "    <tr>\n",
              "      <th>1775</th>\n",
              "      <td>robinson answers critics</td>\n",
              "    </tr>\n",
              "    <tr>\n",
              "      <th>1776</th>\n",
              "      <td>mallon wades ne vote battle</td>\n",
              "    </tr>\n",
              "    <tr>\n",
              "      <th>1777</th>\n",
              "      <td>lib dems' new election pr chief</td>\n",
              "    </tr>\n",
              "    <tr>\n",
              "      <th>1778</th>\n",
              "      <td>tories reject rethink axed mp</td>\n",
              "    </tr>\n",
              "    <tr>\n",
              "      <th>1779</th>\n",
              "      <td>women film 'are earning less'</td>\n",
              "    </tr>\n",
              "  </tbody>\n",
              "</table>\n",
              "<p>1780 rows × 1 columns</p>\n",
              "</div><br><label><b>dtype:</b> object</label>"
            ]
          },
          "metadata": {},
          "execution_count": 38
        }
      ]
    },
    {
      "cell_type": "code",
      "source": [],
      "metadata": {
        "id": "zo3iPTaVeKke"
      },
      "execution_count": null,
      "outputs": []
    }
  ]
}
{
  "nbformat": 4,
  "nbformat_minor": 0,
  "metadata": {
    "colab": {
      "provenance": [],
      "authorship_tag": "ABX9TyO7I1/D3B83/S66/JUDQSct",
      "include_colab_link": true
    },
    "kernelspec": {
      "name": "python3",
      "display_name": "Python 3"
    },
    "language_info": {
      "name": "python"
    }
  },
  "cells": [
    {
      "cell_type": "markdown",
      "metadata": {
        "id": "view-in-github",
        "colab_type": "text"
      },
      "source": [
        "<a href=\"https://colab.research.google.com/github/QaziSaim/DeepLearning--DeepNeuralNetwork-/blob/main/JournyBasicPyTorchTutorialsOne.ipynb\" target=\"_parent\"><img src=\"https://colab.research.google.com/assets/colab-badge.svg\" alt=\"Open In Colab\"/></a>"
      ]
    },
    {
      "cell_type": "code",
      "execution_count": 1,
      "metadata": {
        "id": "JDBxjlKnSAqT"
      },
      "outputs": [],
      "source": [
        "import torch\n",
        "import numpy as np"
      ]
    },
    {
      "cell_type": "code",
      "source": [
        "data = [[1,2],[3,4]]\n",
        "x_data = torch.tensor(data)"
      ],
      "metadata": {
        "id": "09BZupG4SKD9"
      },
      "execution_count": 2,
      "outputs": []
    },
    {
      "cell_type": "code",
      "source": [
        "print(x_data.shape)\n",
        "print(type(x_data))\n",
        "print(x_data)"
      ],
      "metadata": {
        "colab": {
          "base_uri": "https://localhost:8080/"
        },
        "id": "Q3HPEnepSQDP",
        "outputId": "61595bd3-38ff-46b4-ffb7-dd286ebebcd5"
      },
      "execution_count": 3,
      "outputs": [
        {
          "output_type": "stream",
          "name": "stdout",
          "text": [
            "torch.Size([2, 2])\n",
            "<class 'torch.Tensor'>\n",
            "tensor([[1, 2],\n",
            "        [3, 4]])\n"
          ]
        }
      ]
    },
    {
      "cell_type": "code",
      "source": [
        "np_array = np.array(data)\n",
        "print(type(np_array))\n",
        "print(np_array)\n",
        "torch_to_np = torch.from_numpy(np_array)\n",
        "print(type(torch_to_np))\n",
        "print(torch_to_np)"
      ],
      "metadata": {
        "colab": {
          "base_uri": "https://localhost:8080/"
        },
        "id": "aGjO37IISVGc",
        "outputId": "d6e11ed7-5edb-4010-d619-4115afa7c8d3"
      },
      "execution_count": 4,
      "outputs": [
        {
          "output_type": "stream",
          "name": "stdout",
          "text": [
            "<class 'numpy.ndarray'>\n",
            "[[1 2]\n",
            " [3 4]]\n",
            "<class 'torch.Tensor'>\n",
            "tensor([[1, 2],\n",
            "        [3, 4]])\n"
          ]
        }
      ]
    },
    {
      "cell_type": "code",
      "source": [
        "x_ones = torch.ones_like(x_data)\n",
        "print(x_ones)"
      ],
      "metadata": {
        "colab": {
          "base_uri": "https://localhost:8080/"
        },
        "id": "5msXy7ZRSkyI",
        "outputId": "31f6f7ce-29b9-4ce7-cb9a-95c402c0105e"
      },
      "execution_count": 5,
      "outputs": [
        {
          "output_type": "stream",
          "name": "stdout",
          "text": [
            "tensor([[1, 1],\n",
            "        [1, 1]])\n"
          ]
        }
      ]
    },
    {
      "cell_type": "code",
      "source": [
        "x_rand  = torch.rand_like(torch.Tensor([0,1]),dtype = torch.float)"
      ],
      "metadata": {
        "id": "bVMoaoyETAeA"
      },
      "execution_count": 9,
      "outputs": []
    },
    {
      "cell_type": "code",
      "source": [
        "x_rand"
      ],
      "metadata": {
        "colab": {
          "base_uri": "https://localhost:8080/"
        },
        "id": "XX060_82TG0u",
        "outputId": "4eed0978-9359-4bcb-d041-8fcd003aa5fe"
      },
      "execution_count": 10,
      "outputs": [
        {
          "output_type": "execute_result",
          "data": {
            "text/plain": [
              "tensor([0.5012, 0.3038])"
            ]
          },
          "metadata": {},
          "execution_count": 10
        }
      ]
    },
    {
      "cell_type": "code",
      "source": [
        "np_array.shape"
      ],
      "metadata": {
        "colab": {
          "base_uri": "https://localhost:8080/"
        },
        "id": "ZMG_aDRlTHeP",
        "outputId": "ad446b44-e403-40a6-88d9-8382bafe2f04"
      },
      "execution_count": 12,
      "outputs": [
        {
          "output_type": "execute_result",
          "data": {
            "text/plain": [
              "(2, 2)"
            ]
          },
          "metadata": {},
          "execution_count": 12
        }
      ]
    },
    {
      "cell_type": "code",
      "source": [
        "torch.rand_like(torch.Tensor(np_array))"
      ],
      "metadata": {
        "colab": {
          "base_uri": "https://localhost:8080/"
        },
        "id": "ZMkL5NWKTg1Q",
        "outputId": "7205f2d1-1bba-4d0f-d3e1-580e6acfe9fe"
      },
      "execution_count": 21,
      "outputs": [
        {
          "output_type": "execute_result",
          "data": {
            "text/plain": [
              "tensor([[0.2825, 0.2208],\n",
              "        [0.9083, 0.3274]])"
            ]
          },
          "metadata": {},
          "execution_count": 21
        }
      ]
    },
    {
      "cell_type": "code",
      "source": [
        "torch.ones(np_array.shape[0])"
      ],
      "metadata": {
        "colab": {
          "base_uri": "https://localhost:8080/"
        },
        "id": "bDSj25XHTl-W",
        "outputId": "7c8bf81d-bd2f-40e0-8a0d-8e57001b1925"
      },
      "execution_count": 22,
      "outputs": [
        {
          "output_type": "execute_result",
          "data": {
            "text/plain": [
              "tensor([1., 1.])"
            ]
          },
          "metadata": {},
          "execution_count": 22
        }
      ]
    },
    {
      "cell_type": "code",
      "source": [
        "torch.zeros(np_array.shape[1])"
      ],
      "metadata": {
        "colab": {
          "base_uri": "https://localhost:8080/"
        },
        "id": "r8uArCrvTrnw",
        "outputId": "5df48ac4-4d68-42e6-d575-6d51fa5227c5"
      },
      "execution_count": 23,
      "outputs": [
        {
          "output_type": "execute_result",
          "data": {
            "text/plain": [
              "tensor([0., 0.])"
            ]
          },
          "metadata": {},
          "execution_count": 23
        }
      ]
    },
    {
      "cell_type": "code",
      "source": [
        "torch.rand(3,4)"
      ],
      "metadata": {
        "colab": {
          "base_uri": "https://localhost:8080/"
        },
        "id": "NncdYm-STuhw",
        "outputId": "ddd4a534-c5b8-4c74-aaf1-31de209f7aec"
      },
      "execution_count": 24,
      "outputs": [
        {
          "output_type": "execute_result",
          "data": {
            "text/plain": [
              "tensor([[0.9302, 0.2692, 0.9367, 0.7778],\n",
              "        [0.1808, 0.1613, 0.8986, 0.6754],\n",
              "        [0.0773, 0.5468, 0.9406, 0.6479]])"
            ]
          },
          "metadata": {},
          "execution_count": 24
        }
      ]
    },
    {
      "cell_type": "code",
      "source": [
        "torch.is_tensor(torch.Tensor(np_array))"
      ],
      "metadata": {
        "colab": {
          "base_uri": "https://localhost:8080/"
        },
        "id": "kYchwj68Txkx",
        "outputId": "0b596028-67ce-46f1-905a-0176e5a20da4"
      },
      "execution_count": 25,
      "outputs": [
        {
          "output_type": "execute_result",
          "data": {
            "text/plain": [
              "True"
            ]
          },
          "metadata": {},
          "execution_count": 25
        }
      ]
    },
    {
      "cell_type": "code",
      "source": [
        "torch.is_tensor(np_array)"
      ],
      "metadata": {
        "colab": {
          "base_uri": "https://localhost:8080/"
        },
        "id": "C4yQhgyTUH2k",
        "outputId": "d4272515-c650-4c28-b50c-0c873dc62a90"
      },
      "execution_count": 26,
      "outputs": [
        {
          "output_type": "execute_result",
          "data": {
            "text/plain": [
              "False"
            ]
          },
          "metadata": {},
          "execution_count": 26
        }
      ]
    },
    {
      "cell_type": "code",
      "source": [
        "torch.is_storage(x_data)"
      ],
      "metadata": {
        "colab": {
          "base_uri": "https://localhost:8080/"
        },
        "id": "g51w9fxmUNCO",
        "outputId": "9d93c00d-f3bf-4e57-ffc3-05d797fccc5b"
      },
      "execution_count": 29,
      "outputs": [
        {
          "output_type": "execute_result",
          "data": {
            "text/plain": [
              "False"
            ]
          },
          "metadata": {},
          "execution_count": 29
        }
      ]
    },
    {
      "cell_type": "code",
      "source": [
        "storage_obj = torch.FloatStorage(6)\n",
        "print(storage_obj)"
      ],
      "metadata": {
        "colab": {
          "base_uri": "https://localhost:8080/"
        },
        "id": "DOSssigtUWNP",
        "outputId": "750a5503-a3e8-45e9-c13a-3c83fd64bef6"
      },
      "execution_count": 30,
      "outputs": [
        {
          "output_type": "stream",
          "name": "stdout",
          "text": [
            " 7.323356628417969\n",
            " 0.0\n",
            " 9.798751831054688\n",
            " 0.0\n",
            " 1.1210387714598537e-43\n",
            " 0.0\n",
            "[torch.storage.TypedStorage(dtype=torch.float32, device=cpu) of size 6]\n"
          ]
        },
        {
          "output_type": "stream",
          "name": "stderr",
          "text": [
            "/tmp/ipython-input-3872303776.py:1: UserWarning: TypedStorage is deprecated. It will be removed in the future and UntypedStorage will be the only storage class. This should only matter to you if you are using storages directly.  To access UntypedStorage directly, use tensor.untyped_storage() instead of tensor.storage()\n",
            "  storage_obj = torch.FloatStorage(6)\n"
          ]
        }
      ]
    },
    {
      "cell_type": "code",
      "source": [
        "torch.is_storage(storage_obj)"
      ],
      "metadata": {
        "colab": {
          "base_uri": "https://localhost:8080/"
        },
        "id": "x_GYVyH7U3Va",
        "outputId": "760357b1-db82-496c-a410-0b17e39424cf"
      },
      "execution_count": 31,
      "outputs": [
        {
          "output_type": "execute_result",
          "data": {
            "text/plain": [
              "True"
            ]
          },
          "metadata": {},
          "execution_count": 31
        }
      ]
    },
    {
      "cell_type": "code",
      "source": [
        "tensor_obj = torch.randn(4, 6)\n",
        "print(f\"Tensor object: {tensor_obj}\")\n",
        "\n",
        "# Check if it's a storage\n",
        "is_storage_tensor = torch.is_storage(tensor_obj)\n",
        "print(f\"Is it a storage? {is_storage_tensor}\")\n"
      ],
      "metadata": {
        "colab": {
          "base_uri": "https://localhost:8080/"
        },
        "id": "01WLNZyrU6-B",
        "outputId": "d4fa3d36-6705-4935-cde0-9d43f633934c"
      },
      "execution_count": 32,
      "outputs": [
        {
          "output_type": "stream",
          "name": "stdout",
          "text": [
            "Tensor object: tensor([[-1.0670,  2.3809,  0.0636,  0.4092,  0.4002, -0.3642],\n",
            "        [-0.9611,  3.1050, -0.2776, -0.6782,  0.7331, -0.3433],\n",
            "        [ 0.3438,  0.7749, -1.4219,  0.7867,  0.5342,  1.3412],\n",
            "        [-0.1271,  1.0125,  0.2849,  1.1636, -0.5587,  0.4323]])\n",
            "Is it a storage? False\n"
          ]
        }
      ]
    },
    {
      "cell_type": "code",
      "source": [
        "complex_data = torch.Tensor([1,2,3])\n",
        "print(torch.is_complex(complex_data))"
      ],
      "metadata": {
        "colab": {
          "base_uri": "https://localhost:8080/"
        },
        "id": "9ZaCx_2XU_3a",
        "outputId": "13bb712b-f246-48eb-9010-b6ec7628c14c"
      },
      "execution_count": 36,
      "outputs": [
        {
          "output_type": "stream",
          "name": "stdout",
          "text": [
            "False\n"
          ]
        }
      ]
    },
    {
      "cell_type": "code",
      "source": [
        "complex_data = torch.tensor([1+2j,2+4j],dtype=torch.complex64)"
      ],
      "metadata": {
        "id": "_U0RQQPrVf8C"
      },
      "execution_count": 37,
      "outputs": []
    },
    {
      "cell_type": "code",
      "source": [
        "torch.is_complex(complex_data)"
      ],
      "metadata": {
        "colab": {
          "base_uri": "https://localhost:8080/"
        },
        "id": "v5fC7DSuWLYs",
        "outputId": "b42ebca4-6637-49cb-de2f-af63a342f512"
      },
      "execution_count": 38,
      "outputs": [
        {
          "output_type": "execute_result",
          "data": {
            "text/plain": [
              "True"
            ]
          },
          "metadata": {},
          "execution_count": 38
        }
      ]
    },
    {
      "cell_type": "code",
      "source": [],
      "metadata": {
        "id": "Ktwle8TvWO4H"
      },
      "execution_count": null,
      "outputs": []
    }
  ]
}
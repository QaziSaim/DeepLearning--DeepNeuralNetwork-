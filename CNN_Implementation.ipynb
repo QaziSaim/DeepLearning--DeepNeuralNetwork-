{
  "nbformat": 4,
  "nbformat_minor": 0,
  "metadata": {
    "colab": {
      "provenance": [],
      "authorship_tag": "ABX9TyMaCIIDORjLJDWVX/w4ZaTM",
      "include_colab_link": true
    },
    "kernelspec": {
      "name": "python3",
      "display_name": "Python 3"
    },
    "language_info": {
      "name": "python"
    }
  },
  "cells": [
    {
      "cell_type": "markdown",
      "metadata": {
        "id": "view-in-github",
        "colab_type": "text"
      },
      "source": [
        "<a href=\"https://colab.research.google.com/github/QaziSaim/DeepLearning--DeepNeuralNetwork-/blob/main/CNN_Implementation.ipynb\" target=\"_parent\"><img src=\"https://colab.research.google.com/assets/colab-badge.svg\" alt=\"Open In Colab\"/></a>"
      ]
    },
    {
      "cell_type": "code",
      "execution_count": 4,
      "metadata": {
        "id": "D3h9P5mM-MkV"
      },
      "outputs": [],
      "source": [
        "import tensorflow as tf\n",
        "import keras\n",
        "from keras.layers import Conv2D,MaxPool2D,AveragePooling2D,Dense\n",
        "from keras import layers,models\n",
        "from keras.utils import to_categorical\n",
        "import numpy as np\n",
        "import matplotlib.pyplot as plt\n",
        "from keras.datasets import cifar10"
      ]
    },
    {
      "cell_type": "code",
      "source": [
        "max_pooling_layer = MaxPool2D(\n",
        "    pool_size=(2,2),strides=None,padding='valid',data_format=None\n",
        ")\n",
        "avg_pooling_layer = AveragePooling2D(\n",
        "    pool_size=(2,2),strides=None,padding='valid',data_format=None\n",
        ")"
      ],
      "metadata": {
        "id": "GqgWI4_f-n8Q"
      },
      "execution_count": 5,
      "outputs": []
    },
    {
      "cell_type": "code",
      "source": [
        "fully_connected_layer = Dense(\n",
        "    units=128,activation='relu',kernel_initializer='glorot_uniform'\n",
        ")"
      ],
      "metadata": {
        "id": "K92nZDqJABHY"
      },
      "execution_count": 7,
      "outputs": []
    },
    {
      "cell_type": "code",
      "source": [],
      "metadata": {
        "id": "_NSgLKaMAE4E"
      },
      "execution_count": null,
      "outputs": []
    }
  ]
}